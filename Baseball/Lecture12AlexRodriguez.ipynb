{
 "cells": [
  {
   "cell_type": "markdown",
   "metadata": {},
   "source": [
    "# Are baseball players overpaid? #\n",
    "\n",
    "Summarized from:\n",
    "Silver, Nate. \"Is Alex Rodriguez Overpaid?\", Baseball Between the Numbers, ed. Jonah Keri, Basic Books, 2006.\n",
    "\n",
    "In 2000, Alex Rodriguez signed a 10-year $\\$252,000,000$ contract with the Texas Rangers. It was the largest contract in the history of MLB, and was more money than the owner of the Rangers had paid for the team. And, it was more money than it cost to build the stadium in Arlington, TX that the Rangers played in. Rodriguez made about $\\$500$ a pitch. \n",
    "\n",
    "So, the real question is, was Alex Rodriguez overpaid? Our first reaction might be, \"yes, of course\". But, what if the Rangers made $\\$550$ for every pitch to Rodriguez through increased ticket sales, merchandising, playoff appearances, etc. If that's the case, then the Rangers are making money off of him and he might be a good investment. For better or worse, people make money if other people can make money from the work they do. \n",
    "\n",
    "__Was the investment worth it for the Texas Rangers?__\n",
    "\n",
    "## How baseball teams make money ##\n",
    "* Ticket sales\n",
    "* Local radio and television\n",
    "* Merchandise\n",
    "* MLB Central Fund - team share of national television deal\n",
    "* Concessions\n",
    "* Postseason revenue\n",
    "* Private suites, etc at the ballpark\n",
    "* Revenue sharing\n",
    "\n",
    "### Ticket sales ###\n",
    "Three categories of variables that affect ticket sales are:\n",
    "* Team quality\n",
    "* Stadium quality\n",
    "* Market quality\n",
    "\n",
    "#### Team quality ####\n",
    "* Number of games won in current season\n",
    "* Number of games won in previous season\n",
    "* Playoff appearance in current season\n",
    "* Playoff appearance in previous season\n",
    "* Number of winning seasons in past 10 years\n",
    "* Number of playoff appearances in past 10 years\n",
    "\n",
    "#### Stadium quality ####\n",
    "* Seating capacity\n",
    "* Stadium quality rating - 0-100 rating of seat comfort, concessions, beauty. ESPN ratings\n",
    "* Honeymoon effect - attendance boost from opening a new stadium\n",
    "\n",
    "#### Market quality ####\n",
    "* Market size\n",
    "* Per-capita income\n",
    "\n",
    "\n",
    "#### Variables that affect attendance ####\n",
    "Regression analysis showed that the following variables affect attendance the most, in declining order of statistical significance.\n",
    "\n",
    "1. Stadium quality rating\n",
    "2. Market size\n",
    "3. Honeymoon effect\n",
    "4. Games won in previous season\n",
    "5. Playoff appearances in last 10 years\n",
    "6. Games won in current season\n",
    "7. Per-capita income\n",
    "\n",
    "Fans want a competitive team. Teams can see an increase in ticket sales in just one year of improved performance in the short term. Over the long term, fans want to see playoff appearances. Coors Field is a really nice stadium. This fact helps with ticket sales.\n",
    "\n",
    "## Value of one additional win ##\n",
    "Assume for a second that every team win is worth the same, the 70th win is worth the same as the 90th win, then we can say how much a player contributed to their team by looking at how many wins they contributed. \n",
    "\n",
    "In 2002, 2003, and 2004 A-Rod contributed 11, 10, and 8 wins respectively. We can do a regression on the contributions to revenue per win and see that each win is worth about $\\$1.1M$. (This number can vary depending on revenue sharing, etc) So, A-Rod contributed about $\\$11M$,$\\$10M$, and $\\$8M$ in those years. It's a lot of money, but not the $\\$25M$ annually that he was paid.\n",
    "\n",
    "# Playoffs #\n",
    "The truth is that not all wins are created equal. There's no difference between winning 50 and 51 games. In both cases, the team is bad. There's also very little difference between winning 99 and 100 games. In both cases, the team is very good and is highly, highly likely going to the playoffs. Between 85 and 95 wins, there is a dramatic difference in a team's playoff chances. It looks something like this:\n",
    "\n",
    "| Wins | Playoff Pr |\n",
    "|---|---|\n",
    "| 80 | 0.8 |\n",
    "| 85 | 9.3 |\n",
    "| 90 | 56.5 |\n",
    "| 95 | 94.3 |\n",
    "| 100 | 99.5 |\n",
    "\n",
    "There is a nonlinear bump in revenue if a team makes the playoffs. For example, one regular season win contributes 1.1M, and a playoff appearance contributes 25M. That's quite a difference. \n",
    "\n",
    "### Playoff examples ###\n",
    "Most wins that didn't make it to playoffs: 1999 Cincinnati Reds won 96 games and lost division to 97-win Houston Astros\n",
    "\n",
    "Fewest wins that made it to playoffs: 2005 San Diego Padres won division with 82-80 record. \n",
    "\n",
    "\n",
    "A team with fewer than 80 wins has almost no chance to make playoffs. But, a team with 96+ wins is practically guaranteed to make playoffs.\n",
    "\n",
    "#### Between 86-93 wins ####\n",
    "For a team projected to win between 86 and 93 games, this is the area where each additional win really matters in terms of qualifying for playoffs. Example: winning 90 games instead of 89 increases playoff chances by 13\\%. If we include probability of making playoffs in calculating the marginal value of a win, then the value of increases sharply at 82 wins and starts to decrease at 92 wins. \n",
    "\n",
    "__Marginal value: value of one additional unit, such as a win.__\n",
    "\n",
    "The marginal value of a win will influence what a team is willing to pay for a player who can produce that win. \n",
    "\n",
    "Consider this situation:\n",
    "The Royals, Mets, and Cardinals are all evaluating a free agent player that they have all determined will contribute 6 additional wins. In every season, there is a mid-season trade deadline where teams can make trades to help with the remaining games in the season. Teams that are contenders for the post-season will often add a big name player at this time. Teams that aren't contenders will often use this time to trade a big-contract player and pick up prospects that will help the team in future years.\n",
    "\n",
    "Royals: Would win 71 games instead of 65 games, which is worth 4.1M, about 590,000,000 per win.\n",
    "\n",
    "Mets: Would win 91 games instead of 85 games, which is worth 17M, about 2.8M per win.\n",
    "\n",
    "Cardinals: Would win 101 games instead of 95 games, which is worth 4.8M, about 800,000,000 per win.\n",
    "\n",
    "The result from this situation is that the player will likely be overpaid. There is also uncertainty in the situation. No one knows for sure how the player will contribute to the team, his valuation could be incorrect, or based on incomplete information. \n",
    "\n",
    "### Back to Alex Rodriguez ###\n",
    "\n",
    "| Year | Salary | WAR | Linear Model | Regular season and playoff model |\n",
    "|---|---|---|---|---|\n",
    "| 2001 | 24M | 11.6 | 18M | 11M |\n",
    "| 2002 | 24M | 10.8 | 16M | 10M |\n",
    "| 2003 | 24M | 9.8 | 12M | 8M |\n",
    "| 2004 | 24M | 7.9 | 9M | 10M |\n",
    "| 2005 | 25M | 10.2 | 12M | 32M |\n",
    "\n",
    "The Texas Rangers finished last in the first three years that A-Rod was with the team. His WAR didn't bring them closer to the playoffs, so those wins weren't worth very much. \n",
    "\n",
    "# Marginal Payroll/Marginal Wins #\n",
    "You can think of Marginal Payroll/Marginal Wins (MP/MW) as how well does your team do compared to how well they would do if you spent minimum wage to put a team on the field. Spending the minimum is baseline performance for how well you spend money and recruit players. MP/MW evaluates how efficiently a front office spends money to acquire talented players for the team. The team's payroll for the year and its record is compared to the record it could expect from fielding a roster of replacement-level players, all of whom are paid the major league minimum salary. \n",
    "\n",
    "The formula is:\n",
    "$$MPMW=\\frac{club\\_payroll - 28*league\\_min}{WP-0.300 * 162}$$\n",
    "\n",
    "where $league\\_min$ is the minimum league salary that year, and $WP$ is the team's winning percentage. The formula assumes that a replacement-level club would play 0.300 ball. \n",
    "\n",
    "The team's winning percentage above 0.300 is multiplied by 162 to calculate the number of marginal wins over a full 162-game season.\n",
    "\n",
    "The club payroll assumes a 25-man active roster and three-man disabled list, and uses the Opening Day payroll numbers as the best measure of a team's expectations for the season. MPMW\n",
    "basically measures how much a team had to pay for a win. There are different categories that a team can fall into regarding their MPMW score.\n",
    "\n",
    "* Low MP/MW, good record: Efficient ballclub (2003 Marlins, Athletics)\n",
    "* Low MP/MW, bad record: Not spending enough to compete (2003 Devil Rays)\n",
    "* High MP/MW, good record: Spending its way to the top (2003 Yankees)\n",
    "* High MP/MW, bad record: Poorly-run club (2003 Mets, Rangers)\n",
    "\n",
    "In 2017, the league min salary was $\\$535,000.$ The Rockies club payroll was $\\$127.8M$. Their winning percentage was 0.54.\n",
    "\n",
    "# Correlation and Regression #\n",
    "Correlation describes the relationship between two variables. If variables are correlated, we can say that they change relative to each other. As one increases, the other might increase or decrease. We can quantify the strength of that correlation.\n"
   ]
  },
  {
   "cell_type": "markdown",
   "metadata": {},
   "source": [
    "## Can we predict Wins from team salary? ##\n",
    "We care about team wins more than anything else, so let's start with determining the strength of the correlation between team salary and wins in a season. \n",
    "\n",
    "### Scatterplots \n",
    "\n",
    "We can start by visualizing our data to see if anything jumps out. Maybe we start with the hypothesis that teams that score more runs win more games.\n",
    "\n",
    "To visualize the relationships between different variables, it can be helpful to create a scatterplot of the data. The following code generates a scatter plot depicting the relationship between Salary and Wins. We put Salary on the x-axis as the independent variable and Wins on the y-axis as the dependent variable. \n",
    "\n"
   ]
  },
  {
   "cell_type": "code",
   "execution_count": 12,
   "metadata": {},
   "outputs": [
    {
     "data": {
      "text/plain": [
       "Text(0.5,1,'Wins vs. Salary')"
      ]
     },
     "execution_count": 12,
     "metadata": {},
     "output_type": "execute_result"
    },
    {
     "data": {
      "image/png": "[encoded data removed]",
      "text/plain": [
       "<Figure size 432x432 with 1 Axes>"
      ]
     },
     "metadata": {
      "needs_background": "light"
     },
     "output_type": "display_data"
    }
   ],
   "source": [
    "#Need to generate the data. Lahman\n",
    "from pybaseball.lahman import *\n",
    "import pandas as pd\n",
    "import matplotlib.pylab as plt\n",
    "%matplotlib inline\n",
    "\n",
    "sal = salaries()\n",
    "sal2000 = sal.loc[sal['yearID'] >= 2000].copy()\n",
    "#sal2000.head()\n",
    "teamSalaries = sal2000.groupby(['yearID', 'teamID'], as_index=False).agg({'salary':'sum'})\n",
    "teamSalaries.head()\n",
    "\n",
    "#get wins per season\n",
    "t = teams()\n",
    "t.head()\n",
    "teams2000 = t.loc[t['yearID'] >= 2000, ['yearID', 'teamID', 'W', 'L', 'attendance']]\n",
    "teams2000.head()\n",
    "\n",
    "teamsWinsSalaries = pd.merge(teamSalaries, teams2000, on=['yearID', 'teamID'], how='inner')\n",
    "teamsWinsSalaries.head()\n",
    "fig, axes = plt.subplots(nrows=1, ncols=1, figsize=(6,6))\n",
    "axes.scatter(teamsWinsSalaries[\"salary\"], teamsWinsSalaries[\"W\"], color = \"steelblue\")\n",
    "axes.grid(alpha=0.25)\n",
    "axes.set_xlabel(\"Salary\", fontsize=16)\n",
    "axes.set_ylabel(\"Wins\", fontsize=16)\n",
    "axes.set_title(\"Wins vs. Salary\", fontsize=16)"
   ]
  },
  {
   "cell_type": "markdown",
   "metadata": {},
   "source": [
    "## Questions ##\n",
    "1. Write 3 observations about the data in the plot.\n",
    "2. Identify one team from each of the MPMW categories that we discussed. This is a squishy question.\n",
    "3. Generate a similar plot for Attendance vs. Wins."
   ]
  },
  {
   "cell_type": "markdown",
   "metadata": {},
   "source": [
    "## Correlation  - Pearson's R ##\n",
    "We can evaluate the strength, and the direction, of the linear relationship between two variables using Pearson's R. We get a score +/-1, where +1 signifies a strong positive relationship - as one variable is increasing, so is the other variable - and -1 signifies a strong negative relationship - as one variable is increasing, the other variable is decreasing. We calculate the correlation using the Z-scores for each variable:\n",
    "\n",
    "$$ r = \\frac{\\sum{Z_xZ_y}}{n} $$\n",
    "\n",
    "where $$Z=\\frac{X - \\bar{X}}{S}$$\n",
    "\n",
    "In Pandas, there is a correlation method that we can call on a column in our data frame. Here, we see the correlation between Wins and Salary:"
   ]
  },
  {
   "cell_type": "code",
   "execution_count": 18,
   "metadata": {},
   "outputs": [
    {
     "data": {
      "text/plain": [
       "0.33550923461721049"
      ]
     },
     "execution_count": 18,
     "metadata": {},
     "output_type": "execute_result"
    }
   ],
   "source": [
    "teamsWinsSalaries[\"salary\"].corr(teamsWinsSalaries[\"W\"], method='pearson')"
   ]
  },
  {
   "cell_type": "markdown",
   "metadata": {},
   "source": [
    "### Coefficient of determination, $R^2$\n",
    "The coefficient of determination, more commonly known as $R^2$, measures the proportion of variance in Y explained by X, e.g. How much does Salary explain the variance in Wins. Using the R for Runs and Salary, we calculate:\n",
    "\n",
    "$$(0.3355)^2 = 0.1125$$\n",
    "\n",
    "which tells us that 11% of the variance in Wins can be explained by how much money the team spends on salaries. That's not very much."
   ]
  },
  {
   "cell_type": "markdown",
   "metadata": {},
   "source": [
    "### Linear Regression ###\n",
    "We can model the linear relationship between two variables by generating a regression line from the data. The regression line provides more information about the dependent variable than the mean of the variable and tells you how much of the variance in the dependent variable is explained by the independent variable. We want to find the line that best represents the relationship. For a data set X, Y, where X is the independent variable and Y is the dependent variable, we describe the regression line for X, Y as:\n",
    "\n",
    "$$\\hat{y} = mx + b$$\n",
    "\n",
    "where\n",
    "\n",
    "$\\hat{y}$ = predicted value of y, \n",
    "b = intercept, \n",
    "m = regression coefficient\n",
    "\n",
    "The value $\\hat{y} - y$ is the residual. If $\\hat{y} > y$, then the residual is -, and if $\\hat{y} < y$, then the residual is +. The regression line minimizes the sum of the squared residuals. We can calculate $m$ and $b$ as\n",
    "\n",
    "$$m = r\\frac{S_y}{S_x}$$\n",
    "\n",
    "$$b = \\bar{y} - m\\bar{x}$$\n",
    "\n",
    "We can find the values for m and b from the mean, std, and Pearson's R, and then find the regression for the Wins and Salary correlation.\n"
   ]
  },
  {
   "cell_type": "markdown",
   "metadata": {},
   "source": [
    "## Questions ##\n",
    "4. Find the values for m and b in this plot.\n",
    "5. Repeat the plot for Salary and Attendance."
   ]
  },
  {
   "cell_type": "code",
   "execution_count": null,
   "metadata": {},
   "outputs": [],
   "source": [
    "\n",
    "m = \n",
    "b = \n",
    "y = m * teamWinsSalaries['salary'].copy() + b\n",
    "x = teamWinsSalaries['salary'].copy()\n",
    "fig, ax = plt.subplots()\n",
    "scatter = ax.scatter(x,teamWinsSalaries['salary'],marker='o',label=\"W vs. Salary\")\n",
    "line = ax.plot(x,y, color='red',label=\"W vs. Salary predicted\")\n",
    "ax.set_xlabel(\"Salary\", fontsize=16)\n",
    "ax.set_ylabel(\"Wins\", fontsize=16)\n",
    "plt.legend()"
   ]
  }
 ],
 "metadata": {
  "kernelspec": {
   "display_name": "Python 3",
   "language": "python",
   "name": "python3"
  },
  "language_info": {
   "codemirror_mode": {
    "name": "ipython",
    "version": 3
   },
   "file_extension": ".py",
   "mimetype": "text/x-python",
   "name": "python",
   "nbconvert_exporter": "python",
   "pygments_lexer": "ipython3",
   "version": "3.6.5"
  }
 },
 "nbformat": 4,
 "nbformat_minor": 2
}

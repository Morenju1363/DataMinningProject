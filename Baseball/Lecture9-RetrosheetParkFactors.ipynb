{
 "cells": [
  {
   "cell_type": "markdown",
   "metadata": {},
   "source": [
    "Note: this is an in-class exercise, but to get full points, all questions need to be completed correctly. It's due before class on Monday.\n",
    "\n",
    "# Retrosheet and back to park factors#\n",
    "Retrosheet is another database of game data that goes back to 1950 or so. Every event in every game is available in the retrosheet database. Retrosheet provides the pitch sequence data, but not the location of the pitch that you get in statcast.\n",
    "\n",
    "<a href=\"https://www.retrosheet.org/\">Retrosheet</a>\n",
    "\n",
    "Since we have statcast, we don't neeed to get into the retrosheet play-by-play data, but the game logs will help us answer questions individual games, such as number of hits, walks, and score.\n",
    "\n",
    "In the retrosheet documentation in pybaseball, you can find a few examples for how to call retrosheet. \n",
    "\n",
    "<a href=\"https://www.retrosheet.org/gamelogs/glfields.txt\">Retrosheet game logs documentation</a>\n",
    "\n",
    "This call gets the logs for every game in 2018 and prints the column headers."
   ]
  },
  {
   "cell_type": "code",
   "execution_count": 1,
   "metadata": {},
   "outputs": [
    {
     "name": "stdout",
     "output_type": "stream",
     "text": [
      "['date', 'game_num', 'day_of_week', 'visiting_team', 'visiting_team_league', 'visiting_game_num', 'home_team', 'home_team_league', 'home_team_game_num', 'visiting_score', 'home_score', 'num_outs', 'day_night', 'completion_info', 'forfeit_info', 'protest_info', 'park_id', 'attendance', 'time_of_game_minutes', 'visiting_line_score', 'home_line_score', 'visiting_abs', 'visiting_hits', 'visiting_doubles', 'visiting_triples', 'visiting_homeruns', 'visiting_rbi', 'visiting_sac_hits', 'visiting_sac_flies', 'visiting_hbp', 'visiting_bb', 'visiting_iw', 'visiting_k', 'visiting_sb', 'visiting_cs', 'visiting_gdp', 'visiting_ci', 'visiting_lob', 'visiting_pitchers_used', 'visiting_individual_er', 'visiting_er', 'visiting__wp', 'visiting_balks', 'visiting_po', 'visiting_assists', 'visiting_errors', 'visiting_pb', 'visiting_dp', 'visiting_tp', 'home_abs', 'home_hits', 'home_doubles', 'home_triples', 'home_homeruns', 'home_rbi', 'home_sac_hits', 'home_sac_flies', 'home_hbp', 'home_bb', 'home_iw', 'home_k', 'home_sb', 'home_cs', 'home_gdp', 'home_ci', 'home_lob', 'home_pitchers_used', 'home_individual_er', 'home_er', 'home_wp', 'home_balks', 'home_po', 'home_assists', 'home_errors', 'home_pb', 'home_dp', 'home_tp', 'ump_home_id', 'ump_home_name', 'ump_first_id', 'ump_first_name', 'ump_second_id', 'ump_second_name', 'ump_third_id', 'ump_third_name', 'ump_lf_id', 'ump_lf_name', 'ump_rf_id', 'ump_rf_name', 'visiting_manager_id', 'visiting_manager_name', 'home_manager_id', 'home_manager_name', 'winning_pitcher_id', 'winning_pitcher_name', 'losing_pitcher_id', 'losing_pitcher_name', 'save_pitcher_id', 'save_pitcher_name', 'game_winning_rbi_id', 'game_winning_rbi_name', 'visiting_starting_pitcher_id', 'visiting_starting_pitcher_name', 'home_starting_pitcher_id', 'home_starting_pitcher_name', 'visiting_1_id', 'visiting_1_name', 'visiting_1_pos', 'visiting_2_id', 'visiting_2_name', 'visiting_2_pos', 'visiting_2_id.1', 'visiting_3_name', 'visiting_3_pos', 'visiting_4_id', 'visiting_4_name', 'visiting_4_pos', 'visiting_5_id', 'visiting_5_name', 'visiting_5_pos', 'visiting_6_id', 'visiting_6_name', 'visiting_6_pos', 'visiting_7_id', 'visiting_7_name', 'visiting_7_pos', 'visiting_8_id', 'visiting_8_name', 'visiting_8_pos', 'visiting_9_id', 'visiting_9_name', 'visiting_9_pos', 'home_1_id', 'home_1_name', 'home_1_pos', 'home_2_id', 'home_2_name', 'home_2_pos', 'home_3_id', 'home_3_name', 'home_3_pos', 'home_4_id', 'home_4_name', 'home_4_pos', 'home_5_id', 'home_5_name', 'home_5_pos', 'home_6_id', 'home_6_name', 'home_6_pos', 'home_7_id', 'home_7_name', 'home_7_pos', 'home_8_id', 'home_8_name', 'home_8_pos', 'home_9_id', 'home_9_name', 'home_9_pos', 'misc', 'acquisition_info']\n"
     ]
    }
   ],
   "source": [
    "from pybaseball.retrosheet import *\n",
    "games = season_game_logs(2018)\n",
    "print(list(games))"
   ]
  },
  {
   "cell_type": "markdown",
   "metadata": {},
   "source": [
    "I'll print one game to show the individual values."
   ]
  },
  {
   "cell_type": "code",
   "execution_count": 2,
   "metadata": {},
   "outputs": [
    {
     "name": "stdout",
     "output_type": "stream",
     "text": [
      "date                            20180329\n",
      "game_num                               0\n",
      "day_of_week                          Thu\n",
      "visiting_team                        COL\n",
      "visiting_team_league                  NL\n",
      "visiting_game_num                      1\n",
      "home_team                            ARI\n",
      "home_team_league                      NL\n",
      "home_team_game_num                     1\n",
      "visiting_score                         2\n",
      "home_score                             8\n",
      "num_outs                              51\n",
      "day_night                              N\n",
      "completion_info                      NaN\n",
      "forfeit_info                         NaN\n",
      "protest_info                         NaN\n",
      "park_id                            PHO01\n",
      "attendance                         48703\n",
      "time_of_game_minutes                 216\n",
      "visiting_line_score            100001000\n",
      "home_line_score                30000320x\n",
      "visiting_abs                          33\n",
      "visiting_hits                          9\n",
      "visiting_doubles                       0\n",
      "visiting_triples                       0\n",
      "visiting_homeruns                      2\n",
      "visiting_rbi                           2\n",
      "visiting_sac_hits                      1\n",
      "visiting_sac_flies                     0\n",
      "visiting_hbp                           0\n",
      "                              ...       \n",
      "visiting_9_pos                         1\n",
      "home_1_id                       perad001\n",
      "home_1_name                David Peralta\n",
      "home_1_pos                             7\n",
      "home_2_id                       polla001\n",
      "home_2_name                 A.J. Pollock\n",
      "home_2_pos                             8\n",
      "home_3_id                       goldp001\n",
      "home_3_name             Paul Goldschmidt\n",
      "home_3_pos                             3\n",
      "home_4_id                       lambj001\n",
      "home_4_name                    Jake Lamb\n",
      "home_4_pos                             5\n",
      "home_5_id                       martk001\n",
      "home_5_name                  Ketel Marte\n",
      "home_5_pos                             4\n",
      "home_6_id                       avila001\n",
      "home_6_name                   Alex Avila\n",
      "home_6_pos                             2\n",
      "home_7_id                       ahmen001\n",
      "home_7_name                   Nick Ahmed\n",
      "home_7_pos                             6\n",
      "home_8_id                       dysoj001\n",
      "home_8_name                 Jarrod Dyson\n",
      "home_8_pos                             9\n",
      "home_9_id                       corbp001\n",
      "home_9_name               Patrick Corbin\n",
      "home_9_pos                             1\n",
      "misc                                 NaN\n",
      "acquisition_info                       Y\n",
      "Name: 0, Length: 161, dtype: object\n"
     ]
    }
   ],
   "source": [
    "print(games.iloc[0])"
   ]
  },
  {
   "cell_type": "markdown",
   "metadata": {},
   "source": [
    "1. (1 pt) Generate two dataframes from the 2018 data: one with games where COL was the home team and another with games where COL was the visiting team."
   ]
  },
  {
   "cell_type": "code",
   "execution_count": null,
   "metadata": {},
   "outputs": [],
   "source": []
  },
  {
   "cell_type": "markdown",
   "metadata": {},
   "source": [
    "2. (2 pts) What is the park factor for Coors Field for OBP in 2018? \n",
    "\n",
    "**On-base percentage (OBP)** - captures how frequently a player gets on base by a hit, walk, or getting hit by the pitch. \n",
    "\n",
    "$$OBP=\\frac{H+BB+HBP}{PA}$$\n",
    "\n",
    "where PA = AB + BB + HBP + SH + SF"
   ]
  },
  {
   "cell_type": "code",
   "execution_count": null,
   "metadata": {},
   "outputs": [],
   "source": []
  },
  {
   "cell_type": "markdown",
   "metadata": {},
   "source": [
    "3. (3 pts) In 2013, the San Diego Padres decided to move the fences in at Petco Park after years of hitters complaining that it was impossible to hit there. \n",
    "\n",
    "According to one article, \"It took six games and 173 at-bats for the Padres to hit their first homer at the new ballpark; during this stretch, a livid Klesko threw an absolute fit in the dugout after what might have been a two-homer night at Qualcomm Stadium became a double and a long fly out at Petco.\"\n",
    "\n",
    "<a href=\"http://www.thisgreatgame.com/ballparks-petco-park.html\">The history of Petco Park</a>\n",
    "\n",
    "\n",
    "Many people thought that the fences would never be moved under any circumstances. Eventually they were, and like any decision in baseball, the effect of the change is hard to measure, not linear, and not necessarily statistically significant across all players. \n",
    "\n",
    "<a href=\"https://www.beyondtheboxscore.com/2016/1/19/10787848/petco-park-padres-not-pitcher-friendly-anymore-right-field-fence-move\">Is Petco Park still a pitcher's park?</a>\n",
    "\n",
    "Was there a change in the park factor for OBP and Runs Per Game as a result of the new fences? Compare the five years prior to 2013 to the five years since."
   ]
  },
  {
   "cell_type": "markdown",
   "metadata": {},
   "source": [
    "4. (4 pts) In 1997, Colorado Rockies star Larry Walker won the League MVP award. However, there's an argument that Mike Piazza, catcher for the Los Angeles Dodgers should have won it. The MVP typically goes to players who help their team offensively. They also need to be solid defensively, but without gaudy offensive numbers, a player doesn't win the MVP. Walker played half of his games at Coors Field, which we already know is a hitter's paradise, and Piazza played half of his games at Dodgers Stadium, which is a more neutral park. How much did each player's home park affect their stats? Is there a case that Piazza actually deserved the MVP?"
   ]
  },
  {
   "cell_type": "code",
   "execution_count": null,
   "metadata": {},
   "outputs": [],
   "source": []
  }
 ],
 "metadata": {
  "kernelspec": {
   "display_name": "Python 3",
   "language": "python",
   "name": "python3"
  },
  "language_info": {
   "codemirror_mode": {
    "name": "ipython",
    "version": 3
   },
   "file_extension": ".py",
   "mimetype": "text/x-python",
   "name": "python",
   "nbconvert_exporter": "python",
   "pygments_lexer": "ipython3",
   "version": "3.6.7"
  }
 },
 "nbformat": 4,
 "nbformat_minor": 2
}

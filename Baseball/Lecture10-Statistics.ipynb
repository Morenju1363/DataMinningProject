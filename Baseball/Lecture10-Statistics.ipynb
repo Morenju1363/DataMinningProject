{
 "cells": [
  {
   "cell_type": "markdown",
   "metadata": {},
   "source": [
    "# Intro to Statistics, etc #\n",
    "I hope most of this is review. But, it's still good to go over it.\n",
    "\n",
    "## Measures of central tendency ##\n",
    "Measures of central tendency are useful for characterizing the center of a data set. Common measure of central tendency include\n",
    "\n",
    "### Mean ###\n",
    "The most familiar measure of the center is the mean (arithmetic average), defined as $$\\overline{x}=\\frac{\\sum\\limits_{i=1}^n x_i}{n}$$ \n",
    "\n",
    "__advantage:__ The mean is simple.\n",
    "\n",
    "__disadvantage:__ Outliers can skew the results. \n",
    "\n",
    "__Example__ \n",
    "$\\overline{x}$ of [1, 2, 3, 4, 5, 600] is $\\frac{(1+2+3+4+5+600)}{6} = 102.5$\n",
    "\n",
    "### Median###\n",
    "The middle value when data is ordered smallest to largest. If $n$ is odd, the median is the value at the position $\\frac{n+1}{2}$. When $n$ is even, the median is the average of the values at the positions $\\frac{n}{2}$ and $\\frac{n+1}{2}$. \n",
    "\n",
    "#### Example #### \n",
    "What is the median of [54, 23, 12, 100, 101, 123]? First, order the data, [12, 23, 54, 100, 101, 123]. Average the middle values $\\frac{(54 + 100 )}{2} = 77$.\n",
    "\n",
    "### Mode ###\n",
    "The value that occurs most often. The mode is particularly useful for categorical data, such as birth location of players.\n",
    "\n",
    "## Skewness ##\n",
    "In some cases, the median and mean will be similar. However, if the data is skewed either above or below the mean, the mean and median will be different. \n",
    "\n",
    "__Negative skew__ left tailed, mean left of center, mean $<$ median\n",
    "\n",
    "__Positive skew__ right tailed, mean right of center, mean $>$ median\n",
    "\n"
   ]
  },
  {
   "cell_type": "markdown",
   "metadata": {},
   "source": [
    "## Measures of dispersion ##\n",
    "Measures of dispersion describe the spread of the data. Data can have the same values for mean or median, but contain very different individual values. \n",
    "### Range ### \n",
    "$Range = max(x) - min(x)$\n",
    "\n",
    "## Five number summary##\n",
    "Summarize a data set with five values. This provides a better characterization of the distribution than just one number.\n",
    "\n",
    "* min\n",
    "* lower quartile\n",
    "* median\n",
    "* upper quartile\n",
    "* max\n",
    "\n",
    "The five-number summary provides a description of the center of the data (median), spread through the IQR, and the skewness.\n",
    "\n",
    "### Interquartile Range### \n",
    "The difference between the upper and lower quartiles is the Interquartile Range (IQR). \n",
    "\n",
    "$$IQR = Q3 - Q1$$. \n",
    "\n",
    "IQR explains the spread of 50\\% of the data. Quartiles divide the data into 4 equal parts.\n",
    "\n",
    "* Q1 is the lowest 25\\% of the data.\n",
    "* Q2 splits the data in half (median).\n",
    "* Q3 is the highest 25\\% of the data.\n",
    "\n",
    "To compute the quartiles, find the median (Q2). Then find the median of the lower half (Q1), and the median of the upper half (Q3).\n",
    "\n",
    "__Example__ Compute the quartiles of [6, 7, 15, 36, 39, 40, 41, 42, 43, 47, 49].\n",
    "\n",
    "### Variance and standard deviation### \n",
    "Variance and standard deviation both measure the variability of the data by looking at how far each data point is from the mean. $$(x_1 - \\overline{x})^2 + (x_2 - \\overline{x})^2 + ... + (x_n - \\overline{x})^2$$ \n",
    "\n",
    "Some values will be above the mean and some will be below the mean, canceling each other out. It will appear that our variability is 0. By squaring the data, we get the sum of squares. We get the average squared distance to the mean as\n",
    " \n",
    "$$\\frac{1}{n}[(x_1 - \\overline{x})^2 + (x_2 - \\overline{x})^2 + ... + (x_n - \\overline{x})^2]$$ \n",
    "\n",
    "$$S^2 = \\frac{\\sum (x - \\overline{x})^2}{n}$$\n",
    "\n",
    "The square root of the variance is the average deviation from the mean, which is the standard deviation.\n",
    "\n",
    "$$S =\\sqrt{\\frac{\\sum (x - \\overline{x})}{n}}$$\n",
    "\n",
    "The larger the variance, the larger the variability in the data.\n",
    "\n",
    "__Example__ Compute $S^2$ of [12, 24, 3, 5, 6].\n",
    "\n",
    "## Z-score ##\n",
    "Use a z-score to compare the mean of a population to an individual observation or the mean of a sample. A z-score measures how common or exceptional an observation is relative to other observations. The __z-score__ is the number of standard deviations an observation is from the mean of the population.\n",
    "\n",
    "$$Z = \\frac{x - \\overline{x}}{s}$$\n",
    "\n",
    "Need a large sample, $n > 30$ to compute a z-score. Distribution must be normal. We expect 68\\% of observations to have z-scores between +/-1, and 95\\% of observations to have z-scores within +/-2, and 99\\% to have z-scores within +/-3. \n",
    "\n",
    "__Example__ When leading by exactly 1 run after 6 innings, average winning \\% is 0.714, with a standard deviation of 0.071. Colorado's winning \\% is 0.6765. The population winning \\% is 0.714. Colorado is the observation with winning \\% 0.6765. The z-score for COL is\n",
    "$$Z_{COL} = \\frac{0.6765 - 0.7135}{0.0714} = -0.51$$\n",
    "\n",
    "We can look at a z-table and get a value of 0.3050. This tells us that about 70\\% of teams are better than the Rockies in 1-run games and about 30\\% of teams are worse.\n"
   ]
  },
  {
   "cell_type": "markdown",
   "metadata": {},
   "source": [
    "## T-test ##\n",
    "\n",
    "T-tests are typically used to determine if there is a difference between two independent samples in a population. T-tests are one of the simplest tests we can do to compare data. T-tests determine the probability of the means of two groups occurring by random chance. \n",
    "\n",
    "We have two options: \n",
    "\n",
    "- A One Sample T-Test and a Two-sample T-Test. \n",
    "\n",
    "- We use a One Sample T-Test to evaluate whether the mean of a 1D sample dataset of independant observations is equal to the true mean of the population from which the data is sampled. \n",
    "\n",
    "- We use a Two Sample T-Test to evaluate whether the means from two independently sampled datasets (with equal variance) are equal, meaning that the data was sampled from the same population.\n",
    "\n",
    "### T-test output\n",
    "- The t-test produces a t-value and a p-value. \n",
    "- The t-value is a ratio of the intergroup difference and the intragroup difference - the difference between the two groups and the difference within the groups. \n",
    "- The larger the t value, the more difference there is between the data groups. \n",
    "- The smaller the t value, the more similarity there is between groups. \n",
    "- For example, a t value of 3 means that the groups are three times as different from each other as they are within the individual group.\n",
    "\n",
    "### P-value ###\n",
    "The t-test also produces a p-value.\n",
    "- p-value is the probability of finding the observed results when the null hypothesis ($H_0$) is true. \n",
    "- You can also think of a p-value as the probability that variations in your sample data occurred by chance. \n",
    "- Low p-values indicate your data did not occur by chance. \n",
    "- For example, a p-value of .01 means there is only a 1% chance that the results from an experiment happened by random chance. In most cases, a p-value of 0.05 (5%) is accepted to reflect that differences in the data are valid, and the null hypothesis that the populations are the same can be rejected.\n",
    "\n",
    "### Hypothesis testing ###\n",
    "\n",
    "If we want to say that there is a statistically significant difference between the run distribution at Coors Field compared to the run distribution for all ballparks, we first need to generate a hypothesis. \n",
    "\n",
    "In any hypothesis testing problems, we have two hypothesis options:\n",
    " - $h_0$ - the null hypothesis\n",
    " - $h_1$ - an alternate hypothesis\n",
    " \n",
    "The objective of hypothesis testing is to determine if the alternate hypothesis is supported by the provided data. The initially favored claim $h_0$ will not be rejected in favor of the alternate hypothesis $h_1$ unless the data provides sufficient support for $h_1$. \n",
    "\n",
    "**The possible outcomes are**\n",
    "- Reject $h_0$ in favor of $h_1$\n",
    "- Fail to reject $h_0$\n",
    "\n",
    "### Null hypothesis ###\n",
    "We're comparing run production at Coors Field and the rest of the league. We can formulate our hypothesis by comparing mean run production at Coors Field and the league overall.\n",
    "- $h_0$ is $\\mu_{coors} = \\mu_{league}$\n",
    "\n",
    "### Alternate hypothesis ###\n",
    "Our alternate hypothesis is that the mean run production at Coors Field is greater than the mean run production for the league.\n",
    "- $h_1$ is $\\mu_{coors} > \\mu_{league}$\n",
    "\n",
    "We could start by just calculating the means and see that the Coors mean is quite a bit higher. In the data, the mean is 10.97, compared to 8.57 for the league overall. But, we need to know if these differences are different enough to be meaningful.\n",
    "\n",
    "- $h_0$ is $\\mu_{coors} = \\mu_{league} = 8.57$\n",
    "- $h_1$ is $\\mu_{coors} > 8.57$\n",
    "\n",
    "If we run a 2-sample t-test we see an really, really small p-value and we can reject the null hypothesis. You can generate a dataframe of runs scored at Coors and runs scored elsewhere fairly easily using the retrosheet data.\n",
    "\n",
    "You can do hypothesis testing with either a t-test or a z-test. You have to modify the z-score calculation shown above to use the sample std instead of the population std.\n",
    "\n",
    "See https://docs.scipy.org/doc/scipy/reference/generated/scipy.stats.ttest_ind.html for information on how to run the t-test in python.\n"
   ]
  },
  {
   "cell_type": "markdown",
   "metadata": {},
   "source": [
    "# Visualizing the data #\n",
    "It can often be helpful to visualize the data when you're trying to describe what the data is telling you. Visual representations can help us understand data much better than seeing a column of data. \n",
    "\n",
    "## Histograms ##\n",
    "Histograms are useful for showing the distribution of a single variable. Each bar in the histogram shows the frequency of a variable within a given range, providing an estimate of the quantity of each value in the distribution. For example, you might use a histogram to show salaries of players on a team. "
   ]
  },
  {
   "cell_type": "code",
   "execution_count": 1,
   "metadata": {},
   "outputs": [
    {
     "name": "stdout",
     "output_type": "stream",
     "text": [
      "       yearID teamID lgID   playerID   salary\n",
      "23360    2013    COL   NL  belisma01  4100000\n",
      "23361    2013    COL   NL  betanra01  4250000\n",
      "23362    2013    COL   NL  brignre01   499000\n",
      "23363    2013    COL   NL  brothre01   491000\n",
      "23364    2013    COL   NL  chacijh01  1650000\n"
     ]
    },
    {
     "data": {
      "image/png": "[encoded data removed]",
      "text/plain": [
       "<Figure size 576x288 with 1 Axes>"
      ]
     },
     "metadata": {
      "needs_background": "light"
     },
     "output_type": "display_data"
    }
   ],
   "source": [
    "#salaries for Rockies players for past 5 years.\n",
    "from pybaseball.lahman import *\n",
    "import matplotlib.pylab as plt\n",
    "%matplotlib inline\n",
    "\n",
    "sal = salaries()\n",
    "dfSalCOL = sal.loc[(sal[\"yearID\"] > 2012)&(sal[\"teamID\"]=='COL')].copy()\n",
    "\n",
    "print(dfSalCOL.head())\n",
    "# Initialize figure \n",
    "fig, ax = plt.subplots(figsize=(8,4))\n",
    "\n",
    "# Plot histogram with custom colors\n",
    "dfSalCOL.hist(column=\"salary\", ax=ax, facecolor=\"steelblue\", edgecolor=\"white\", bins=20)\n",
    "\n",
    "# Add a title\n",
    "ax.set_title(\"Salaries for last 5 years\", fontsize=15)\n",
    "\n",
    "# Add axis labels \n",
    "ax.set_xlabel(\"Salary\", fontsize=13)\n",
    "ax.set_ylabel(\"Frequency\", fontsize=16)\n",
    "\n",
    "# Make the grid lines lighter and put them behind data \n",
    "ax.grid(alpha=0.25)\n",
    "ax.set_axisbelow(True)"
   ]
  },
  {
   "cell_type": "markdown",
   "metadata": {},
   "source": [
    "I wouldn't call this a normal distribution. We could plot all salaries in the league and see how the distribution compares to the Rockies distribution."
   ]
  },
  {
   "cell_type": "markdown",
   "metadata": {},
   "source": [
    "### Box-and-Whisker Plots ###\n",
    "A box-and-whisker plot, also known as a box plot, shows five 5-number summary information. It doesn't provide as much information about a distribution as a histogram, but it does show the quartiles, outliers, and whether the data has a skew. Box plots are useful for comparing two or more datasets."
   ]
  },
  {
   "cell_type": "code",
   "execution_count": 2,
   "metadata": {},
   "outputs": [
    {
     "data": {
      "image/png": "[encoded data removed]",
      "text/plain": [
       "<Figure size 432x432 with 1 Axes>"
      ]
     },
     "metadata": {
      "needs_background": "light"
     },
     "output_type": "display_data"
    }
   ],
   "source": [
    "# Initialize figure \n",
    "fig = plt.figure(figsize=(6,6))\n",
    "\n",
    "# Gat axis object \n",
    "ax = fig.add_subplot(111)\n",
    "\n",
    "# Generate boxplot of the salary column\n",
    "dfSalCOL.boxplot(column=\"salary\", ax=ax);"
   ]
  },
  {
   "cell_type": "markdown",
   "metadata": {},
   "source": [
    "Note that the result is a standard box-and-whiskers plot with a box, where\n",
    "* The top of the box is Q3: the upper quartile\n",
    "* The bottom of the box is Q1: the lower quartile\n",
    "* The median line is in the middle of the box\n",
    "* Whisker lines are furthest points that are not outliers\n",
    "* Outliers that fall more than $1.5 \\times IQR$ outside of the nearest quartile. They are either below $Q1-1.5*IQR$ or above $Q3+1.5*IQR$. \n",
    "\n",
    "The default parameters are fine, but we can modify the box plot to make it easier to read."
   ]
  },
  {
   "cell_type": "code",
   "execution_count": 5,
   "metadata": {},
   "outputs": [
    {
     "data": {
      "image/png": "[encoded data removed]",
      "text/plain": [
       "<Figure size 432x576 with 1 Axes>"
      ]
     },
     "metadata": {
      "needs_background": "light"
     },
     "output_type": "display_data"
    }
   ],
   "source": [
    "# Initialize figure \n",
    "fig, ax = plt.subplots(figsize=(6,8))\n",
    "\n",
    "# To get just the columns corresponding to P and OF, we \n",
    "# select only the rows of the DataFrame coresponding to those names, then \n",
    "# call boxplot and pass by=\"POS\" to break the data into the two sets \n",
    "bp = sal.loc[(sal[\"teamID\"]=='COL') | (sal[\"teamID\"]=='BOS')].boxplot(\n",
    "    column=[\"salary\"], by=\"teamID\", ax=ax, widths=[.5, .5], return_type=\"dict\")\n",
    "\n",
    "# This time, bp is a Pandas series containing multiple dictionaries\n",
    "# corresponding to the two sets of data. We loop over each one individually \n",
    "# and set the parameters we want \n",
    "for column in bp:\n",
    "    \n",
    "    # Change properties in boxes \n",
    "    for box in column['boxes']:\n",
    "        box.set(color='steelblue', linewidth=2)\n",
    "    \n",
    "    # Change properties of whiskers \n",
    "    for whisker in column['whiskers']:\n",
    "        whisker.set(color='gray', linewidth=2)\n",
    "\n",
    "    # Change properties of caps \n",
    "    for cap in column['caps']:\n",
    "        cap.set(color='gray', linewidth=2)\n",
    "\n",
    "    # Change properties of median \n",
    "    for cap in column['medians']:\n",
    "        cap.set(color='green', linewidth=2, alpha=0.5)\n",
    "\n",
    "    # Change properties of fliers (outliers) \n",
    "    for cap in column['fliers']:\n",
    "        cap.set(markerfacecolor='steelblue', linewidth=2, marker='s', markersize=6, alpha=0.5)\n",
    "\n",
    "# Set title and vertical axis label\n",
    "ax.set_title('COL vs. LAN', fontsize=18)\n",
    "ax.set_ylabel(\"salary\", fontsize=16)\n",
    "\n",
    "# Set names of plots\n",
    "plt.xticks([1,2],[\"COL\", \"LAN\"], rotation=0, fontsize=16)\n",
    "\n",
    "# Get rid of automatically generated titles and xlables\n",
    "plt.suptitle(\"\")\n",
    "ax.set_xlabel(\"\")\n",
    "\n",
    "# Make grid-lines lighter\n",
    "ax.grid(alpha=0.25);"
   ]
  },
  {
   "cell_type": "markdown",
   "metadata": {},
   "source": [
    "## Questions ##\n",
    "1. Calculate z-scores for salaries for Rockies players. Who are the outliers?\n",
    "2. Choose five teams from large and small markets. For reference, NY Yankees, Boston Red Sox, and Los Angeles Dodgers are large market. The Rockies, Padres, and Brewers are examples of small market teams. Generate a box plot for salaries for all five teams in one plot and describe what you see.\n",
    "3. Is there anything interesting in the salary box plot that would warrant further investigation?\n"
   ]
  },
  {
   "cell_type": "code",
   "execution_count": 5,
   "metadata": {},
   "outputs": [],
   "source": []
  },
  {
   "cell_type": "code",
   "execution_count": null,
   "metadata": {},
   "outputs": [],
   "source": []
  }
 ],
 "metadata": {
  "kernelspec": {
   "display_name": "Python 3",
   "language": "python",
   "name": "python3"
  },
  "language_info": {
   "codemirror_mode": {
    "name": "ipython",
    "version": 3
   },
   "file_extension": ".py",
   "mimetype": "text/x-python",
   "name": "python",
   "nbconvert_exporter": "python",
   "pygments_lexer": "ipython3",
   "version": "3.6.5"
  }
 },
 "nbformat": 4,
 "nbformat_minor": 2
}

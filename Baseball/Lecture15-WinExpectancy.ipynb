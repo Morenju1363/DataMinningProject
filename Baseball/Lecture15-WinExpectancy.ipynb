{
 "cells": [
  {
   "cell_type": "markdown",
   "metadata": {},
   "source": [
    "# Win Expectancy and Leverage #\n",
    "\n",
    "### Win Expectancy (WE)###\n",
    "<a href=\"http://m.mlb.com/glossary/advanced-stats/win-expectancy\" target=\"_blank\">Win Expectancy Explained</a>\n",
    "Win expectancy is the probability that a team will win a game from a particular game state.\n",
    "\n",
    "### Win Probability Added (WPA) ###\n",
    "WPA captures how players impact their teams probability of a win. Basically, we sum up the change in WE for a player over the course of the season.\n",
    "<a href=\"http://m.mlb.com/glossary/advanced-stats/win-probability-added\" target=\"_blank\">Win Probability Added Explained</a>\n",
    "\n",
    "### Leverage Index (LI) ###\n",
    "Measures the importance of the event by quantifying how much the WE could change with the event.\n",
    "<a href=\"http://m.mlb.com/glossary/advanced-stats/leverage-index\" target=\"_blank\">Leverage Index Explained</a>\n",
    "\n",
    "### Tom Tango ###\n",
    "He's another baseball guy who has written some books and done some cool stuff with math. I don't think Tom Tango is his real name, and there's no picture of him anywhere.\n",
    "\n",
    "### Understanding these terms ###\n",
    "Here are the links to some pre-calculated LI and WE values. They change a bit year-to-year and environment-to-environment, but the basic idea stays the same.\n",
    "\n",
    "#### Leverage ####\n",
    "<a href=\"http://www.insidethebook.com/li.shtml#18\" target=\"_blank\">Leverage Index values</a>\n",
    "\n",
    "#### Win Expectancy ####\n",
    "<a href=\"http://www.tangotiger.net/welist.html\" target=\"_blank\">Win Expectancy values</a>\n",
    "\n",
    "## Short-answer Questions ##\n",
    "(2 pts)\n",
    "1. What is the relationship between WE and Leverage? Are they positively or negatively correlated, or neither? Provide a few examples to describe your answer.\n",
    "2. Why is -2 with bases loaded in the 9th a higher leverage situation than -3 and bases loaded in the 9th?\n",
    "3. List 3 high-leverage situations in the 1st inning and 3 very high-leverage situations in the 7th inning.\n",
    "4. In the WE tables, what state changes have the largest change in WE? What baseball events could cause those state changes?\n",
    "5. When do a walk and a HR have the same impact on WE?\n",
    "\n",
    "## Programming Questions ##\n",
    "(4 pts)\n",
    "6. How often did Nolan Arenado come up to bat last year in the 9th inning with the Rockies losing?\n",
    "7. How often did Gerardo Parra come up to bat last year in the 9th inning with the Rockies losing?\n",
    "8. Find two players on different teams with similar BA, OBP, SLG. One player should be on a high-scoring team and the other should be on a low-scoring team. Use the 2016 season so that you have Lahman and statcast data. You can use runs scored that season for determining high scoring and low scoring teams.\n",
    "9. For those two players, how many times did they come up to bat with runners on base? How many times did they come up to bat with bases empty?"
   ]
  },
  {
   "cell_type": "code",
   "execution_count": null,
   "metadata": {},
   "outputs": [],
   "source": []
  }
 ],
 "metadata": {
  "kernelspec": {
   "display_name": "Python 3",
   "language": "python",
   "name": "python3"
  },
  "language_info": {
   "codemirror_mode": {
    "name": "ipython",
    "version": 3
   },
   "file_extension": ".py",
   "mimetype": "text/x-python",
   "name": "python",
   "nbconvert_exporter": "python",
   "pygments_lexer": "ipython3",
   "version": "3.6.7"
  }
 },
 "nbformat": 4,
 "nbformat_minor": 2
}

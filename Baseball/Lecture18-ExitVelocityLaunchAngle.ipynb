{
 "cells": [
  {
   "cell_type": "markdown",
   "metadata": {},
   "source": [
    "# Exit Velocity and Launch Angle #\n",
    "\n",
    "## The Science of Hitting ##\n",
    "\n",
    "In the Statcast data, we can see the speed of the baseball as the pitcher throws it. It's moving really, really fast, and it's breaking in multiple directions. The batter has about 1/2 second to decide whether to swing and to actually perform the swing. It seems like it should be good enough just to be able to swing at all. But, it's not.\n",
    "\n",
    "### Exit velocity ###\n",
    "When the bat hits the ball, the ball has an exit velocity, which is how fast does the ball come off the bat. Hard hit baseballs have a higher exit velocity than softly hit baseballs.\n",
    "\n",
    "### Launch angle ###\n",
    "The launch angle is the vertical direction that the ball off the bat. If a ball has a negative launch angle, it's a ground ball. A launch angle of 0 is flat. A positive launch angle hits the ball into the air. \n",
    "\n",
    "### Types of hits and hitters ###\n",
    "The type of hit that a batter produces depends on both the launch angle and the exit velocity. \n",
    "\n",
    "We typically talk about types of hitters. Power hitters produce positive launch angles, and when the hit also has a high exit velocity, they produce a homerun.\n",
    "\n",
    "Ground ball hitters typically have a low launch angle. If they also have speed, they might be able to beat out a ground ball as long as it has a low exit velocity. Or, a ground ball with a high exit velocity might find a hole in the infield and sneak through for a hit. \n",
    "\n",
    "### Scoring value for exit velocity and launch angle range ###\n",
    "We can calculate the scoring value for a range of launch angles and exit velocities using the linear weights formula, which assigns the highest value to a homerun. \n",
    "\n",
    "$$ LWTS = .46*1B + .80*2B + 1.02*3B + 1.40*HR + .33*(BB + HBP) + .30*SB – .60*CS – .25*(AB – H) $$\n",
    "\n",
    "In an article on Five-Thirty-Eight, there is a graph that shows the exit velocity and launch angle relationship. <a href=\"https://fivethirtyeight.com/features/the-new-science-of-hitting/\" target=\"_blank\">The New Science of Hitting</a>\n",
    "\n",
    "#### A few observations about the graph ####\n",
    "* High scoring potential is in orange, low is in purple, average is white.\n",
    "* Launch angle right around 25 degrees has highest scoring value.\n",
    "* Extreme launch angles, either positive or negative are bad.\n",
    "* High exit velocity doesn't necessarily have high scoring value\n",
    "* Why is the scoring valley at exit velocity of 80?\n",
    "* Why is there a swath of scoring where the launch angle drops and the exit velocity increases?\n",
    "\n",
    "## Questions ##\n",
    "1. Assume that you are a pitcher, or a pitching coach, and you have information about a batter's average exit velocity and launch angle. How might this information change how you approach certain hitters? Create three fictional batters with exit velocity, launch angle, and speed (use numbers), and describe your approach. Describe the batter where you are less worried about \"making a mistake\".\n",
    "\n",
    "2. How could exit velocity and launch angle information provide more information about a batter's future trajectory or current luck, than BA or SLG?\n",
    "\n",
    "3. Find a player with a high strikeout rate in a recent year's data. Estimate the increase in the player's BA if he reduces his strikeout rate by 20%. Assume that instead of striking out, he's putting the ball in play, not walking. (This has nothing to do with exit velocity or launch angle.)\n",
    "\n",
    "4. Finally, there was a great article in the Washington Post that talks about how hitters have used this information to adjust their swings, and also received some bad advice about launch angle prior to the data being published. <a href=\"https://www.washingtonpost.com/graphics/sports/mlb-launch-angles-story/?noredirect=on&utm_term=.bf90fe3f6b80\" target=\"_blank\">Washington Post article on launch angle</a>\n",
    "\n",
    "\n",
    "\n"
   ]
  },
  {
   "cell_type": "code",
   "execution_count": null,
   "metadata": {},
   "outputs": [],
   "source": []
  }
 ],
 "metadata": {
  "kernelspec": {
   "display_name": "Python 3",
   "language": "python",
   "name": "python3"
  },
  "language_info": {
   "codemirror_mode": {
    "name": "ipython",
    "version": 3
   },
   "file_extension": ".py",
   "mimetype": "text/x-python",
   "name": "python",
   "nbconvert_exporter": "python",
   "pygments_lexer": "ipython3",
   "version": "3.6.7"
  }
 },
 "nbformat": 4,
 "nbformat_minor": 2
}

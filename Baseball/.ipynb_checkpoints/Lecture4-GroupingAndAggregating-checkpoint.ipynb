{
 "cells": [
  {
   "cell_type": "markdown",
   "metadata": {},
   "source": [
    "# Grouping and aggregating data #\n",
    "This guy has a great tutorial on <a href=\"https://www.shanelynn.ie/summarising-aggregation-and-grouping-data-in-python-pandas/\" target=\"_blank\">Summarising, Aggregating, and Grouping data in Pandas.</a>\n",
    "### Motivating questions ###\n",
    "We need to group data and calculate aggregate values to answer questions such as:\n",
    "1. How do teams compare to each other? - Group rows of data by team.\n",
    "2. Can we compare a player's strikeouts from one year to the next? - Group rows of data by year.\n",
    "3. Can we compare a team's home and road performance, or performance at different parks? - Group rows of data by game location.\n",
    "\n",
    "### SQL vs. Pandas ###\n",
    "If you're familiar with SQL, you might find it helpful to see how the SQL commands compare to the equivalent Pandas commands.\n",
    "<a href=\"https://pandas.pydata.org/pandas-docs/stable/getting_started/comparison/comparison_with_sql.html\" target=\"_blank\">Pandas and SQL</a>\n",
    "\n",
    "### Pandas groupby###\n",
    "There are times when you want to group the individual rows in a dataframe by some parameter, perform a calculation on the group, and then recombine the results. Use GROUP BY to split the data into groups, then aggregate the data in each group, then display the aggregate calculations as one or more columns in a dataframe or series.\n",
    "\n",
    "**Example:**\n",
    "How many pitchers did each MLB team use in 2015?\n",
    "1. Read the pitching tables, which contains each individual pitcher that appeared in 2015."
   ]
  },
  {
   "cell_type": "code",
   "execution_count": 88,
   "metadata": {},
   "outputs": [],
   "source": [
    "#import pandas as pd\n",
    "#from pybaseball.lahman import *\n",
    "\n",
    "#look in pitching\n",
    "#pitch = pitching()\n",
    "#pitch2015 = pitch.loc[(pitch['yearID']==2015)].copy()\n",
    "#pitch2015.head()"
   ]
  },
  {
   "cell_type": "markdown",
   "metadata": {},
   "source": [
    "2. Group by teamID.\n",
    "3. Return the size of the group, or the count of a field in the group."
   ]
  },
  {
   "cell_type": "code",
   "execution_count": 89,
   "metadata": {},
   "outputs": [],
   "source": [
    "#p = pitch2015.groupby('teamID').size()\n",
    "#print(p)\n",
    "##or\n",
    "#p2 = pitch2015.groupby('teamID')['playerID'].count()\n",
    "#print(p2)\n",
    "#How would we verify that our groupby worked?"
   ]
  },
  {
   "cell_type": "markdown",
   "metadata": {},
   "source": [
    "### Built-in aggregations ###\n",
    "* count() - number of items\n",
    "* first(), last() - first and last item\n",
    "* mean(), median() - mean and median\n",
    "* min(), max() - minimum and maximum values\n",
    "* std(), var() - standard deviation and variance\n",
    "* mad() - mean absolute deviation\n",
    "* prod() - product of all items\n",
    "* sum() - sum of all items"
   ]
  },
  {
   "cell_type": "markdown",
   "metadata": {},
   "source": [
    "**Question:** How many hits did each pitching staff give up in 2015? The abbreviation for Hits is H."
   ]
  },
  {
   "cell_type": "code",
   "execution_count": null,
   "metadata": {},
   "outputs": [],
   "source": []
  },
  {
   "cell_type": "markdown",
   "metadata": {},
   "source": [
    "**Example:** How many hits, walks, and homeruns did each team give up in 2015?\n",
    "We can return the sum of each column in our group."
   ]
  },
  {
   "cell_type": "code",
   "execution_count": 90,
   "metadata": {},
   "outputs": [],
   "source": [
    "#pHits = pitch2015.groupby('teamID')['H','BB','HR'].sum()\n",
    "#print(pHits)"
   ]
  },
  {
   "cell_type": "markdown",
   "metadata": {},
   "source": [
    "## Multiple statistics on the group ##\n",
    "With groupby, we can calculate one statistic on multiple columns. But, what if we need multiple statistics on a column, or multiple statistics on multiple columns. You might also need to create a custom statistic.\n",
    "\n",
    "**Example:** What was the mean ERA, number of hits, homeruns, walks, and pitchers used for each pitching staff in 2015? \n",
    "To answer this, we need the mean of the ERA column and the sum of the other columns.\n",
    "We can apply the aggregate function to our groups and list how we want the data aggregated. \n",
    "\n",
    "To start, we can calculate the count of pitchers the same as we did above using agg. We get the same result."
   ]
  },
  {
   "cell_type": "code",
   "execution_count": 91,
   "metadata": {},
   "outputs": [],
   "source": [
    "#p = pitch2015.groupby(['teamID']).agg({'playerID':'count'})\n",
    "#print(p)"
   ]
  },
  {
   "cell_type": "markdown",
   "metadata": {},
   "source": [
    "**Example:** What was each team's count of pitchers and team ERA?\n",
    "We need multiple calculations this time."
   ]
  },
  {
   "cell_type": "code",
   "execution_count": 92,
   "metadata": {},
   "outputs": [],
   "source": [
    "#p = pitch2015.groupby(['teamID']).agg(\n",
    "#    {'playerID':'count','ERA':'mean'}\n",
    "#    )\n",
    "#print(p)"
   ]
  },
  {
   "cell_type": "markdown",
   "metadata": {},
   "source": [
    "**Example:** What was the mean, min, and max ERA for each team and number of pitchers used?"
   ]
  },
  {
   "cell_type": "code",
   "execution_count": 93,
   "metadata": {},
   "outputs": [],
   "source": [
    "#p = pitch2015.groupby(['teamID']).agg(\n",
    "#    {'playerID':'count','ERA':['mean', 'min','max']}\n",
    "#    )\n",
    "#print(p)"
   ]
  },
  {
   "cell_type": "markdown",
   "metadata": {},
   "source": [
    "**Question:** Add the total hits, homeruns, and walks to the previous groupby."
   ]
  },
  {
   "cell_type": "markdown",
   "metadata": {},
   "source": []
  },
  {
   "cell_type": "markdown",
   "metadata": {},
   "source": [
    "## Grouping by multiple columns ##\n",
    "In our groupby example, we only used one column - teamID. But, what if we wanted to know how teams performed over time? We would need to group by team and year. We'll limit to the last 10 years just so that we don't have so much data."
   ]
  },
  {
   "cell_type": "code",
   "execution_count": 94,
   "metadata": {},
   "outputs": [],
   "source": [
    "#pitchAllYears = pitch.loc[(pitch['yearID']> 2005)].copy()\n",
    "#pitchYearsGrouped = pitchAllYears.groupby(['yearID','teamID']).size()\n",
    "#print(pitchYearsGrouped)"
   ]
  },
  {
   "cell_type": "markdown",
   "metadata": {},
   "source": [
    "## What is an index? ##\n",
    "All dataframes have a column that serves as the name of the row. This is called an *index*. By default, the index is the row number, and we can see that when we create a dataframe and print out a few rows and the index."
   ]
  },
  {
   "cell_type": "code",
   "execution_count": 95,
   "metadata": {},
   "outputs": [],
   "source": [
    "#print(pitch.head())\n",
    "##index of dataframe\n",
    "#print(pitch.index)"
   ]
  },
  {
   "cell_type": "markdown",
   "metadata": {},
   "source": [
    "### An index is unique ###\n",
    "The row number is printed as the first column and when we access data by its row index, that's the value that we're referring to, in this case. The index is a unique value. Two rows can't have the same index. You can set the index on a dataframe, and you can check if your selected column has duplicate values and generate an error if it does."
   ]
  },
  {
   "cell_type": "code",
   "execution_count": 96,
   "metadata": {},
   "outputs": [],
   "source": [
    "#pIndex = pitch.copy()\n",
    "#pIndex.set_index('playerID', drop=False, verify_integrity=True) #This will raise an error"
   ]
  },
  {
   "cell_type": "markdown",
   "metadata": {},
   "source": [
    "### Groupby changes the index ###\n",
    "When you call groupby on a dataframe, you get the group criteria as the new index, unless you specify otherwise. Depending on what you're trying to do, you might not want this."
   ]
  },
  {
   "cell_type": "code",
   "execution_count": 97,
   "metadata": {},
   "outputs": [],
   "source": [
    "#pitching data from previous query. Notice that the rows aren't numbered\n",
    "#print(p)\n",
    "#print(p.index)"
   ]
  },
  {
   "cell_type": "markdown",
   "metadata": {},
   "source": [
    "### Multi-index dataframes ###\n",
    "If you're groupby has multiple columns, your index will be the combination of those columns. This is called a multi-index, or hierarchical index. We see this if we look at the *pitchAllYears* dataframe. We access the data using the index."
   ]
  },
  {
   "cell_type": "code",
   "execution_count": 98,
   "metadata": {},
   "outputs": [],
   "source": [
    "#print(pitchYearsGrouped.index)\n",
    "#print(pitchYearsGrouped.loc[(2006,'COL')])"
   ]
  },
  {
   "cell_type": "markdown",
   "metadata": {},
   "source": [
    "### Preserving the index ###\n",
    "One approach to indexing is to keep the original index column and just let groupby reindex the rows. You do this with as_index=False."
   ]
  },
  {
   "cell_type": "code",
   "execution_count": 99,
   "metadata": {},
   "outputs": [],
   "source": [
    "#pitchAllYears2 = pitch.loc[(pitch['yearID']> 2005)].copy()\n",
    "#pitchYearsGrouped2 = pitchAllYears2.groupby(['yearID','teamID'], as_index=False).agg({\"playerID\": \"count\"})\n",
    "#print(pitchYearsGrouped2.index)\n",
    "#print(pitchYearsGrouped2)"
   ]
  },
  {
   "cell_type": "markdown",
   "metadata": {},
   "source": [
    "## An indexing example ##\n",
    "Add the name of the manager for each team in the (team, year) dataframe just generated. One approach is to read managers and merge on teamID and yearID to generate a new dataframe. The other approach is to generate a (teamID, yearID) multi-index on the dataframe and merge on the index. Do both approaches work?"
   ]
  },
  {
   "cell_type": "code",
   "execution_count": 100,
   "metadata": {},
   "outputs": [],
   "source": [
    "#man = managers()\n",
    "#man = man.loc[(man['yearID'] > 2005)]\n",
    "#print(man)"
   ]
  },
  {
   "cell_type": "code",
   "execution_count": 101,
   "metadata": {},
   "outputs": [],
   "source": [
    "#teamsAndManagers = pd.merge(pitchYearsGrouped2, man[['teamID','yearID','playerID']], on=['yearID', 'teamID'], how='inner')\n",
    "#print(teamsAndManagers)\n",
    "##you can mess with the column labels to clean it up and do an additional merge to get the managers name from master"
   ]
  },
  {
   "cell_type": "code",
   "execution_count": 102,
   "metadata": {},
   "outputs": [],
   "source": [
    "##Merging using the index\n",
    "##What happens?\n",
    "#pitchYearsGrouped2 = pitchAllYears2.groupby(['yearID','teamID']).agg({\"playerID\": \"count\"})\n",
    "\n",
    "#man2 = managers()\n",
    "#man2 = man2.loc[(man2['yearID'] > 2005)]\n",
    "#man2.set_index(['teamID', 'yearID'],drop=False, verify_integrity=True)\n"
   ]
  },
  {
   "cell_type": "markdown",
   "metadata": {},
   "source": [
    "## Questions: ##\n",
    "In addition to the couple of questions previously mentioned, consider the following:\n",
    "\n",
    "Imagine you work for the Colorado Rockies and you've been tasked with improving the team's pitching staff. The Rockies are considering hiring a manager who used to be a Major League pitcher. Their argument is, since he used to be a pitcher, he'll know how to build a good pitching staff.\n",
    "\n",
    "Is there any evidence in the data that teams managed by former Major League pitchers have better pitching staffs than other teams?\n",
    "Before diving into the data, describe how you will answer this question. \n",
    "1. What data do you need?\n",
    "2. What argument will you make?\n",
    "3. What are the limitations to your argument?\n",
    "4. If time permits, you can start working on answering this question.\n"
   ]
  },
  {
   "cell_type": "code",
   "execution_count": null,
   "metadata": {},
   "outputs": [],
   "source": []
  }
 ],
 "metadata": {
  "kernelspec": {
   "display_name": "Python 3",
   "language": "python",
   "name": "python3"
  },
  "language_info": {
   "codemirror_mode": {
    "name": "ipython",
    "version": 3
   },
   "file_extension": ".py",
   "mimetype": "text/x-python",
   "name": "python",
   "nbconvert_exporter": "python",
   "pygments_lexer": "ipython3",
   "version": "3.7.1"
  }
 },
 "nbformat": 4,
 "nbformat_minor": 2
}

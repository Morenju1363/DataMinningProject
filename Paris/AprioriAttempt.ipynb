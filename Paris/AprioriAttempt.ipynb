{
 "cells": [
  {
   "cell_type": "code",
   "execution_count": 1,
   "metadata": {},
   "outputs": [],
   "source": [
    "'''\n",
    "Paris Dinh\n",
    "Data Mining\n",
    "Baseball Slappers\n",
    "11/10/19\n",
    "\n",
    "Goal: Can we set a min_support and min_confince to determine who the best players are individually and in a team?\n",
    "\n",
    "Special packages - downloadable through pip:\n",
    "pybaseball\n",
    "efficient_apriori\n",
    "'''\n",
    "\n",
    "from pybaseball import bwar_bat\n",
    "from pybaseball import batting_stats\n",
    "from efficient_apriori import apriori\n",
    "import numpy as np\n",
    "import pandas as pd\n",
    "import matplotlib.pyplot as plt\n",
    "from scipy import stats"
   ]
  },
  {
   "cell_type": "code",
   "execution_count": 2,
   "metadata": {},
   "outputs": [],
   "source": [
    "# Init: Get batting and WAR data for particular year\n",
    "# This may take a minute\n",
    "BSC = batting_stats(2016)\n",
    "WAR = bwar_bat()"
   ]
  },
  {
   "cell_type": "code",
   "execution_count": 3,
   "metadata": {},
   "outputs": [
    {
     "name": "stdout",
     "output_type": "stream",
     "text": [
      "Prior Shape:\n",
      "BSC shape:  (969, 287)\n",
      "WAR shape:  (107049, 17)\n"
     ]
    }
   ],
   "source": [
    "print('Prior Shape:')\n",
    "print('BSC shape: ', BSC.shape)\n",
    "print('WAR shape: ', WAR.shape)"
   ]
  },
  {
   "cell_type": "code",
   "execution_count": 4,
   "metadata": {},
   "outputs": [
    {
     "name": "stdout",
     "output_type": "stream",
     "text": [
      "Clean WAR shape:  (770, 10)\n"
     ]
    }
   ],
   "source": [
    "WAR_2016 = WAR.loc[WAR.year_ID == 2016]\n",
    "WAR_2016 = WAR_2016.dropna()\n",
    "\n",
    "# dropping some attributes\n",
    "WAR_clean = WAR_2016.iloc[:,[0,1,2,4,7,10,11,14,16]].reset_index()\n",
    "print('Clean WAR shape: ',WAR_clean.shape)"
   ]
  },
  {
   "cell_type": "code",
   "execution_count": 5,
   "metadata": {},
   "outputs": [],
   "source": [
    "'''\n",
    "HELPER FUNCTION\n",
    "Maps value into Very Low to Very High [VL,L,H,VH] based on 1st and 3rd quartile and median.\n",
    "Args:\n",
    "  x : value to be mapped\n",
    "  s : series of which values originate\n",
    "'''\n",
    "def mapVal(x,s):\n",
    "    q = np.quantile(s, [0,.25,.50,.75,1])\n",
    "    name = s.name\n",
    "    # Very High - above 3rd quartile\n",
    "    if x > q[3]: \n",
    "        return('VH '+ name)\n",
    "    \n",
    "    # High - above median, exclusive\n",
    "    elif x <= q[3] and x > q[2]: \n",
    "        return('H '+ name)\n",
    "    \n",
    "    # Low - above 1st quartile, exclusive\n",
    "    elif x <= q[2] and x > q[1]: \n",
    "        return('L '+ name)\n",
    "    \n",
    "    # Very Low - below 1st quartile, inclusive\n",
    "    elif x <= q[1]: \n",
    "        return('VL '+ name)    "
   ]
  },
  {
   "cell_type": "code",
   "execution_count": 6,
   "metadata": {},
   "outputs": [
    {
     "data": {
      "text/html": [
       "<div>\n",
       "<style scoped>\n",
       "    .dataframe tbody tr th:only-of-type {\n",
       "        vertical-align: middle;\n",
       "    }\n",
       "\n",
       "    .dataframe tbody tr th {\n",
       "        vertical-align: top;\n",
       "    }\n",
       "\n",
       "    .dataframe thead th {\n",
       "        text-align: right;\n",
       "    }\n",
       "</style>\n",
       "<table border=\"1\" class=\"dataframe\">\n",
       "  <thead>\n",
       "    <tr style=\"text-align: right;\">\n",
       "      <th></th>\n",
       "      <th>index</th>\n",
       "      <th>name_common</th>\n",
       "      <th>mlb_ID</th>\n",
       "      <th>player_ID</th>\n",
       "      <th>team_ID</th>\n",
       "      <th>pitcher</th>\n",
       "      <th>salary</th>\n",
       "      <th>runs_above_avg</th>\n",
       "      <th>WAR_rep</th>\n",
       "      <th>WAR</th>\n",
       "      <th>WAR_c</th>\n",
       "      <th>salary_c</th>\n",
       "      <th>RRA_c</th>\n",
       "    </tr>\n",
       "  </thead>\n",
       "  <tbody>\n",
       "    <tr>\n",
       "      <td>0</td>\n",
       "      <td>61</td>\n",
       "      <td>Fernando Abad</td>\n",
       "      <td>472551.0</td>\n",
       "      <td>abadfe01</td>\n",
       "      <td>BOS</td>\n",
       "      <td>Y</td>\n",
       "      <td>1250000.0</td>\n",
       "      <td>0.0</td>\n",
       "      <td>0.00</td>\n",
       "      <td>0.00</td>\n",
       "      <td>L WAR</td>\n",
       "      <td>L salary</td>\n",
       "      <td>L runs_above_avg</td>\n",
       "    </tr>\n",
       "    <tr>\n",
       "      <td>1</td>\n",
       "      <td>235</td>\n",
       "      <td>Jose Abreu</td>\n",
       "      <td>547989.0</td>\n",
       "      <td>abreujo02</td>\n",
       "      <td>CHW</td>\n",
       "      <td>N</td>\n",
       "      <td>13334000.0</td>\n",
       "      <td>1.9</td>\n",
       "      <td>2.36</td>\n",
       "      <td>2.68</td>\n",
       "      <td>VH WAR</td>\n",
       "      <td>VH salary</td>\n",
       "      <td>VH runs_above_avg</td>\n",
       "    </tr>\n",
       "    <tr>\n",
       "      <td>2</td>\n",
       "      <td>310</td>\n",
       "      <td>Dustin Ackley</td>\n",
       "      <td>554429.0</td>\n",
       "      <td>ackledu01</td>\n",
       "      <td>NYY</td>\n",
       "      <td>N</td>\n",
       "      <td>3200000.0</td>\n",
       "      <td>-5.0</td>\n",
       "      <td>0.24</td>\n",
       "      <td>-0.29</td>\n",
       "      <td>VL WAR</td>\n",
       "      <td>H salary</td>\n",
       "      <td>VL runs_above_avg</td>\n",
       "    </tr>\n",
       "    <tr>\n",
       "      <td>3</td>\n",
       "      <td>359</td>\n",
       "      <td>Cristhian Adames</td>\n",
       "      <td>542436.0</td>\n",
       "      <td>adamecr01</td>\n",
       "      <td>COL</td>\n",
       "      <td>N</td>\n",
       "      <td>509500.0</td>\n",
       "      <td>-10.9</td>\n",
       "      <td>0.80</td>\n",
       "      <td>-0.41</td>\n",
       "      <td>VL WAR</td>\n",
       "      <td>VL salary</td>\n",
       "      <td>VL runs_above_avg</td>\n",
       "    </tr>\n",
       "    <tr>\n",
       "      <td>4</td>\n",
       "      <td>466</td>\n",
       "      <td>Matt Adams</td>\n",
       "      <td>571431.0</td>\n",
       "      <td>adamsma01</td>\n",
       "      <td>STL</td>\n",
       "      <td>N</td>\n",
       "      <td>1650000.0</td>\n",
       "      <td>-2.0</td>\n",
       "      <td>1.02</td>\n",
       "      <td>0.73</td>\n",
       "      <td>H WAR</td>\n",
       "      <td>L salary</td>\n",
       "      <td>L runs_above_avg</td>\n",
       "    </tr>\n",
       "  </tbody>\n",
       "</table>\n",
       "</div>"
      ],
      "text/plain": [
       "   index       name_common    mlb_ID  player_ID team_ID pitcher      salary  \\\n",
       "0     61     Fernando Abad  472551.0   abadfe01     BOS       Y   1250000.0   \n",
       "1    235        Jose Abreu  547989.0  abreujo02     CHW       N  13334000.0   \n",
       "2    310     Dustin Ackley  554429.0  ackledu01     NYY       N   3200000.0   \n",
       "3    359  Cristhian Adames  542436.0  adamecr01     COL       N    509500.0   \n",
       "4    466        Matt Adams  571431.0  adamsma01     STL       N   1650000.0   \n",
       "\n",
       "   runs_above_avg  WAR_rep   WAR   WAR_c   salary_c              RRA_c  \n",
       "0             0.0     0.00  0.00   L WAR   L salary   L runs_above_avg  \n",
       "1             1.9     2.36  2.68  VH WAR  VH salary  VH runs_above_avg  \n",
       "2            -5.0     0.24 -0.29  VL WAR   H salary  VL runs_above_avg  \n",
       "3           -10.9     0.80 -0.41  VL WAR  VL salary  VL runs_above_avg  \n",
       "4            -2.0     1.02  0.73   H WAR   L salary   L runs_above_avg  "
      ]
     },
     "execution_count": 6,
     "metadata": {},
     "output_type": "execute_result"
    }
   ],
   "source": [
    "# map WAR\n",
    "m = WAR_clean.loc[:,'WAR'].apply(lambda x: mapVal(x,WAR_clean.WAR))\n",
    "WAR_clean['WAR_c'] = m\n",
    "\n",
    "# map salary\n",
    "m = WAR_clean.loc[:,'salary'].apply(lambda x: mapVal(x,WAR_clean.salary))\n",
    "WAR_clean['salary_c'] = m\n",
    "\n",
    "# map RRA\n",
    "m = WAR_clean.loc[:,'runs_above_avg'].apply(lambda x: mapVal(x,WAR_clean.runs_above_avg))\n",
    "WAR_clean['RRA_c'] = m\n",
    "\n",
    "WAR_clean.head()"
   ]
  },
  {
   "cell_type": "code",
   "execution_count": 7,
   "metadata": {},
   "outputs": [],
   "source": [
    "# Players grouped by WAR category\n",
    "# WAR_VH = WAR_clean.loc[WAR_clean.WAR_c == 'VH'] \n",
    "# WAR_H = WAR_clean.loc[WAR_clean.WAR_c == 'H'] \n",
    "# WAR_L = WAR_clean.loc[WAR_clean.WAR_c == 'L'] \n",
    "# WAR_VL = WAR_clean.loc[WAR_clean.WAR_c == 'VL'] "
   ]
  },
  {
   "cell_type": "code",
   "execution_count": 8,
   "metadata": {},
   "outputs": [
    {
     "name": "stdout",
     "output_type": "stream",
     "text": [
      "Clean BSC shape:  (969, 79)\n"
     ]
    }
   ],
   "source": [
    "'''\n",
    "Clean BSC data and map to scale\n",
    "'''\n",
    "BSC_clean = BSC.dropna(axis=1)\n",
    "BSC_clean = BSC_clean.dropna().reset_index()\n",
    "BSC_clean.drop(['index','Season','Dol','Age Rng'],axis=1,inplace=True)\n",
    "\n",
    "# init new dataframe for mapped values\n",
    "BSC_categ = BSC_clean.iloc[:,:3]\n",
    "for x in BSC_clean.columns[3:]:\n",
    "    # map\n",
    "    BSC_categ[x] = BSC_clean.loc[:,x].apply(lambda y: mapVal(y,BSC_clean.loc[:,x]))\n",
    "print('Clean BSC shape: ',BSC_clean.shape)"
   ]
  },
  {
   "cell_type": "code",
   "execution_count": 9,
   "metadata": {},
   "outputs": [
    {
     "data": {
      "text/html": [
       "<div>\n",
       "<style scoped>\n",
       "    .dataframe tbody tr th:only-of-type {\n",
       "        vertical-align: middle;\n",
       "    }\n",
       "\n",
       "    .dataframe tbody tr th {\n",
       "        vertical-align: top;\n",
       "    }\n",
       "\n",
       "    .dataframe thead th {\n",
       "        text-align: right;\n",
       "    }\n",
       "</style>\n",
       "<table border=\"1\" class=\"dataframe\">\n",
       "  <thead>\n",
       "    <tr style=\"text-align: right;\">\n",
       "      <th></th>\n",
       "      <th>Name</th>\n",
       "      <th>Team</th>\n",
       "      <th>Age</th>\n",
       "      <th>G</th>\n",
       "      <th>AB</th>\n",
       "      <th>PA</th>\n",
       "      <th>H</th>\n",
       "      <th>1B</th>\n",
       "      <th>2B</th>\n",
       "      <th>3B</th>\n",
       "      <th>...</th>\n",
       "      <th>Swing% (pfx)</th>\n",
       "      <th>Zone% (pfx)</th>\n",
       "      <th>Def</th>\n",
       "      <th>wSB</th>\n",
       "      <th>Off</th>\n",
       "      <th>Lg</th>\n",
       "      <th>TTO%</th>\n",
       "      <th>Swing% (pi)</th>\n",
       "      <th>Zone% (pi)</th>\n",
       "      <th>basket</th>\n",
       "    </tr>\n",
       "  </thead>\n",
       "  <tbody>\n",
       "    <tr>\n",
       "      <td>0</td>\n",
       "      <td>Mike Trout</td>\n",
       "      <td>Angels</td>\n",
       "      <td>24.0</td>\n",
       "      <td>VH G</td>\n",
       "      <td>VH AB</td>\n",
       "      <td>VH PA</td>\n",
       "      <td>VH H</td>\n",
       "      <td>VH 1B</td>\n",
       "      <td>VH 2B</td>\n",
       "      <td>VH 3B</td>\n",
       "      <td>...</td>\n",
       "      <td>VL Swing% (pfx)</td>\n",
       "      <td>VL Zone% (pfx)</td>\n",
       "      <td>VH Def</td>\n",
       "      <td>VH wSB</td>\n",
       "      <td>VH Off</td>\n",
       "      <td>VH Lg</td>\n",
       "      <td>H TTO%</td>\n",
       "      <td>VL Swing% (pi)</td>\n",
       "      <td>VL Zone% (pi)</td>\n",
       "      <td>{VH OBP, VH wRAA, VH Def, VH SO, VL BUH, VH CS...</td>\n",
       "    </tr>\n",
       "    <tr>\n",
       "      <td>1</td>\n",
       "      <td>Mookie Betts</td>\n",
       "      <td>Red Sox</td>\n",
       "      <td>23.0</td>\n",
       "      <td>VH G</td>\n",
       "      <td>VH AB</td>\n",
       "      <td>VH PA</td>\n",
       "      <td>VH H</td>\n",
       "      <td>VH 1B</td>\n",
       "      <td>VH 2B</td>\n",
       "      <td>VH 3B</td>\n",
       "      <td>...</td>\n",
       "      <td>VL Swing% (pfx)</td>\n",
       "      <td>H Zone% (pfx)</td>\n",
       "      <td>VH Def</td>\n",
       "      <td>VH wSB</td>\n",
       "      <td>VH Off</td>\n",
       "      <td>VH Lg</td>\n",
       "      <td>VL TTO%</td>\n",
       "      <td>VL Swing% (pi)</td>\n",
       "      <td>H Zone% (pi)</td>\n",
       "      <td>{VH OBP, VH wRAA, VH Def, VH SO, VH CS, VH SF,...</td>\n",
       "    </tr>\n",
       "    <tr>\n",
       "      <td>2</td>\n",
       "      <td>Kris Bryant</td>\n",
       "      <td>Cubs</td>\n",
       "      <td>24.0</td>\n",
       "      <td>VH G</td>\n",
       "      <td>VH AB</td>\n",
       "      <td>VH PA</td>\n",
       "      <td>VH H</td>\n",
       "      <td>VH 1B</td>\n",
       "      <td>VH 2B</td>\n",
       "      <td>VH 3B</td>\n",
       "      <td>...</td>\n",
       "      <td>H Swing% (pfx)</td>\n",
       "      <td>VL Zone% (pfx)</td>\n",
       "      <td>VH Def</td>\n",
       "      <td>VL wSB</td>\n",
       "      <td>VH Off</td>\n",
       "      <td>VH Lg</td>\n",
       "      <td>H TTO%</td>\n",
       "      <td>H Swing% (pi)</td>\n",
       "      <td>VL Zone% (pi)</td>\n",
       "      <td>{VH OBP, VH wRAA, VH Def, VH SO, VL BUH, H Swi...</td>\n",
       "    </tr>\n",
       "    <tr>\n",
       "      <td>3</td>\n",
       "      <td>Josh Donaldson</td>\n",
       "      <td>Blue Jays</td>\n",
       "      <td>30.0</td>\n",
       "      <td>VH G</td>\n",
       "      <td>VH AB</td>\n",
       "      <td>VH PA</td>\n",
       "      <td>VH H</td>\n",
       "      <td>VH 1B</td>\n",
       "      <td>VH 2B</td>\n",
       "      <td>VH 3B</td>\n",
       "      <td>...</td>\n",
       "      <td>VL Swing% (pfx)</td>\n",
       "      <td>VL Zone% (pfx)</td>\n",
       "      <td>VH Def</td>\n",
       "      <td>VH wSB</td>\n",
       "      <td>VH Off</td>\n",
       "      <td>VH Lg</td>\n",
       "      <td>H TTO%</td>\n",
       "      <td>VL Swing% (pi)</td>\n",
       "      <td>VL Zone% (pi)</td>\n",
       "      <td>{VH OBP, VH wRAA, VH Def, VH SO, VL BUH, L BsR...</td>\n",
       "    </tr>\n",
       "    <tr>\n",
       "      <td>4</td>\n",
       "      <td>Corey Seager</td>\n",
       "      <td>Dodgers</td>\n",
       "      <td>22.0</td>\n",
       "      <td>VH G</td>\n",
       "      <td>VH AB</td>\n",
       "      <td>VH PA</td>\n",
       "      <td>VH H</td>\n",
       "      <td>VH 1B</td>\n",
       "      <td>VH 2B</td>\n",
       "      <td>VH 3B</td>\n",
       "      <td>...</td>\n",
       "      <td>VH Swing% (pfx)</td>\n",
       "      <td>VL Zone% (pfx)</td>\n",
       "      <td>VH Def</td>\n",
       "      <td>VL wSB</td>\n",
       "      <td>VH Off</td>\n",
       "      <td>H Lg</td>\n",
       "      <td>L TTO%</td>\n",
       "      <td>VH Swing% (pi)</td>\n",
       "      <td>VL Zone% (pi)</td>\n",
       "      <td>{VH OBP, VH wRAA, H PH, VH Def, VH SO, VL BUH,...</td>\n",
       "    </tr>\n",
       "  </tbody>\n",
       "</table>\n",
       "<p>5 rows × 80 columns</p>\n",
       "</div>"
      ],
      "text/plain": [
       "             Name       Team   Age     G     AB     PA     H     1B     2B  \\\n",
       "0      Mike Trout     Angels  24.0  VH G  VH AB  VH PA  VH H  VH 1B  VH 2B   \n",
       "1    Mookie Betts    Red Sox  23.0  VH G  VH AB  VH PA  VH H  VH 1B  VH 2B   \n",
       "2     Kris Bryant       Cubs  24.0  VH G  VH AB  VH PA  VH H  VH 1B  VH 2B   \n",
       "3  Josh Donaldson  Blue Jays  30.0  VH G  VH AB  VH PA  VH H  VH 1B  VH 2B   \n",
       "4    Corey Seager    Dodgers  22.0  VH G  VH AB  VH PA  VH H  VH 1B  VH 2B   \n",
       "\n",
       "      3B  ...     Swing% (pfx)     Zone% (pfx)     Def     wSB     Off     Lg  \\\n",
       "0  VH 3B  ...  VL Swing% (pfx)  VL Zone% (pfx)  VH Def  VH wSB  VH Off  VH Lg   \n",
       "1  VH 3B  ...  VL Swing% (pfx)   H Zone% (pfx)  VH Def  VH wSB  VH Off  VH Lg   \n",
       "2  VH 3B  ...   H Swing% (pfx)  VL Zone% (pfx)  VH Def  VL wSB  VH Off  VH Lg   \n",
       "3  VH 3B  ...  VL Swing% (pfx)  VL Zone% (pfx)  VH Def  VH wSB  VH Off  VH Lg   \n",
       "4  VH 3B  ...  VH Swing% (pfx)  VL Zone% (pfx)  VH Def  VL wSB  VH Off   H Lg   \n",
       "\n",
       "      TTO%     Swing% (pi)     Zone% (pi)  \\\n",
       "0   H TTO%  VL Swing% (pi)  VL Zone% (pi)   \n",
       "1  VL TTO%  VL Swing% (pi)   H Zone% (pi)   \n",
       "2   H TTO%   H Swing% (pi)  VL Zone% (pi)   \n",
       "3   H TTO%  VL Swing% (pi)  VL Zone% (pi)   \n",
       "4   L TTO%  VH Swing% (pi)  VL Zone% (pi)   \n",
       "\n",
       "                                              basket  \n",
       "0  {VH OBP, VH wRAA, VH Def, VH SO, VL BUH, VH CS...  \n",
       "1  {VH OBP, VH wRAA, VH Def, VH SO, VH CS, VH SF,...  \n",
       "2  {VH OBP, VH wRAA, VH Def, VH SO, VL BUH, H Swi...  \n",
       "3  {VH OBP, VH wRAA, VH Def, VH SO, VL BUH, L BsR...  \n",
       "4  {VH OBP, VH wRAA, H PH, VH Def, VH SO, VL BUH,...  \n",
       "\n",
       "[5 rows x 80 columns]"
      ]
     },
     "execution_count": 9,
     "metadata": {},
     "output_type": "execute_result"
    }
   ],
   "source": [
    "'''\n",
    "Perform Apriori on BSC_categ to identify frequent itemsets and association rules.\n",
    "'''\n",
    "BSC_categ['basket'] = BSC_categ.iloc[:,3:].apply(lambda x: set(x).union(x), axis=1)\n",
    "BSC_categ.head()"
   ]
  },
  {
   "cell_type": "markdown",
   "metadata": {},
   "source": [
    "**Prefix Scale**\n",
    "\n",
    "- VL : Very Low\n",
    "- L : Low\n",
    "- H : High\n",
    "- VH : Very High\n",
    "\n",
    "**Acronym Translations**\n",
    "\n",
    "Complete list found here: https://library.fangraphs.com/offense/offensive-statistics-list/\n",
    "\n",
    "\n",
    "- wSB : Weighted Stolen Base\n",
    "- SB : Stolen Base\n",
    "- 3B : Triple\n",
    "- BUH/BUH% : Bunt Hit (percentage)\n",
    "- CS : Caught Stealing\n",
    "- IBB : Intentional Walk\n",
    "- HBP : Hit-by-Pitch\n",
    "- SF : Sacrafice Fly\n",
    "- HR : Home Run\n",
    "- HR/FB : Home Run/Fly Ball\n",
    "\n",
    "**Itemset Interpretation**\n",
    "\n",
    "Frequent levels (VL to VH) of a particular attribute. These indicate frequent scales of statistics on a per player basis. This gives us common attributes amongst players that may indicate which attributes we may or may not use to distinguish good and bad players. Most, if not all of these frequent items are on the scale of VL to L, but this may be a result of chosen min_supp and min_conf. Other insights pending...\n"
   ]
  },
  {
   "cell_type": "code",
   "execution_count": 10,
   "metadata": {},
   "outputs": [],
   "source": [
    "# gives both frequent itemsets and rules\n",
    "itemsets, rules = apriori(BSC_categ.basket,.28,.95) # min_supp, min_conf"
   ]
  },
  {
   "cell_type": "code",
   "execution_count": 11,
   "metadata": {},
   "outputs": [
    {
     "name": "stdout",
     "output_type": "stream",
     "text": [
      "{'VL LD', 'VL GDP', 'VL HBP', 'VL BUH', 'L BsR', 'VL BUH%', 'VL IFH', 'VL PH', 'VL CS', 'VL RBI', 'VL Lg', 'VL BB%', 'VL IFH%', 'VL BB', 'VL IBB', 'VL IFFB%', 'VL ISO', 'VL SF', 'VL HR', 'VL 3B', 'VL 1B', 'VL BB/K', 'L wSB', 'VL IFFB', 'VL HR/FB', 'VL wRC', 'VL 2B', 'VL FB', 'VL SB'}\n"
     ]
    }
   ],
   "source": [
    "# super set of attributes and scales that are common - run of the mill players\n",
    "freqSets = itemsets[max(itemsets.keys())].keys()\n",
    "SS = set()\n",
    "\n",
    "for x in freqSets:\n",
    "    SS = SS.union(set(x))\n",
    "print(SS)"
   ]
  },
  {
   "cell_type": "code",
   "execution_count": 12,
   "metadata": {},
   "outputs": [
    {
     "data": {
      "text/plain": [
       "(43, 80)"
      ]
     },
     "execution_count": 12,
     "metadata": {},
     "output_type": "execute_result"
    }
   ],
   "source": [
    "# remove run of the mill players \n",
    "SS = list(SS)\n",
    "BSC_filter = BSC_categ\n",
    "\n",
    "for x in SS:\n",
    "    # get key\n",
    "    y = x[2:]\n",
    "    y = y.strip()\n",
    "    \n",
    "    toDrop = BSC_filter.loc[BSC_filter[y] == x]\n",
    "    BSC_filter.drop(toDrop.index,inplace = True)\n",
    "\n",
    "BSC_filter.shape"
   ]
  },
  {
   "cell_type": "code",
   "execution_count": 13,
   "metadata": {},
   "outputs": [],
   "source": [
    "goodPlayers = WAR_2016.loc[WAR_2016.name_common.isin(BSC_filter.Name)]\n",
    "badPlayers = WAR_2016.loc[~WAR_2016.name_common.isin(BSC_filter.Name)]"
   ]
  },
  {
   "cell_type": "code",
   "execution_count": 14,
   "metadata": {},
   "outputs": [
    {
     "data": {
      "image/png": "[encoded data removed]",
      "text/plain": [
       "<Figure size 360x432 with 2 Axes>"
      ]
     },
     "metadata": {
      "needs_background": "light"
     },
     "output_type": "display_data"
    }
   ],
   "source": [
    "fig,ax = plt.subplots(1,2,sharey=True,figsize=(5,6))\n",
    "\n",
    "ax[0].set_title('Good Players\\' WAR')\n",
    "ax[0].set_ylabel('WAR')\n",
    "ax[0].set_xlabel('Player')\n",
    "ax[0].scatter(np.arange(goodPlayers.shape[0]),goodPlayers.WAR,alpha=.75)\n",
    "\n",
    "ax[1].set_title('Bad Players\\' War')\n",
    "ax[1].set_xlabel('Player')\n",
    "ax[1].scatter(np.arange(badPlayers.shape[0]),badPlayers.WAR,color='r',alpha=.2)\n",
    "plt.show()"
   ]
  },
  {
   "cell_type": "code",
   "execution_count": 15,
   "metadata": {},
   "outputs": [],
   "source": [
    "'''\n",
    "Hypothesis testing - Difference of means of good players gp and bad players bp\n",
    "H_0: mu_gp - mu_bp = 0\n",
    "H_1: mu_gp - mu_gp != 0\n",
    "'''\n",
    "# significance level of 95%\n",
    "alpha = 0.05\n",
    "mu_gp = goodPlayers.WAR.mean()\n",
    "mu_bp = badPlayers.WAR.mean()\n",
    "std_gp = goodPlayers.WAR.std()\n",
    "std_bp = badPlayers.WAR.std()\n",
    "\n",
    "num = mu_gp - mu_bp\n",
    "den = (std_gp**2 / goodPlayers.shape[0]) + (std_bp**2 / badPlayers.shape[0])\n",
    "z = num / np.sqrt(den)\n",
    "\n",
    "# two tail test pval = 2*phi(-|z|)\n",
    "p = 2* stats.norm.cdf(-np.abs(z))"
   ]
  },
  {
   "cell_type": "code",
   "execution_count": 16,
   "metadata": {},
   "outputs": [
    {
     "data": {
      "text/plain": [
       "0.0"
      ]
     },
     "execution_count": 16,
     "metadata": {},
     "output_type": "execute_result"
    }
   ],
   "source": [
    "np.round(p,5) # oh shit, there is a significant difference!"
   ]
  },
  {
   "cell_type": "code",
   "execution_count": 17,
   "metadata": {},
   "outputs": [
    {
     "name": "stdout",
     "output_type": "stream",
     "text": [
      "Population Means: 2.705853658536586 0.607064471879287\n",
      "Population stds: 2.29205472841483 1.4808909730747826\n",
      "P =  6.808708464548006e-09\n"
     ]
    }
   ],
   "source": [
    "print('Population Means:',mu_gp,mu_bp)\n",
    "print('Population stds:',std_gp,std_bp)\n",
    "print('P = ',p)"
   ]
  },
  {
   "cell_type": "code",
   "execution_count": 18,
   "metadata": {},
   "outputs": [
    {
     "data": {
      "text/html": [
       "<div>\n",
       "<style scoped>\n",
       "    .dataframe tbody tr th:only-of-type {\n",
       "        vertical-align: middle;\n",
       "    }\n",
       "\n",
       "    .dataframe tbody tr th {\n",
       "        vertical-align: top;\n",
       "    }\n",
       "\n",
       "    .dataframe thead th {\n",
       "        text-align: right;\n",
       "    }\n",
       "</style>\n",
       "<table border=\"1\" class=\"dataframe\">\n",
       "  <thead>\n",
       "    <tr style=\"text-align: right;\">\n",
       "      <th></th>\n",
       "      <th>name_common</th>\n",
       "      <th>mlb_ID</th>\n",
       "      <th>player_ID</th>\n",
       "      <th>year_ID</th>\n",
       "      <th>team_ID</th>\n",
       "      <th>stint_ID</th>\n",
       "      <th>lg_ID</th>\n",
       "      <th>pitcher</th>\n",
       "      <th>G</th>\n",
       "      <th>PA</th>\n",
       "      <th>salary</th>\n",
       "      <th>runs_above_avg</th>\n",
       "      <th>runs_above_avg_off</th>\n",
       "      <th>runs_above_avg_def</th>\n",
       "      <th>WAR_rep</th>\n",
       "      <th>WAA</th>\n",
       "      <th>WAR</th>\n",
       "    </tr>\n",
       "  </thead>\n",
       "  <tbody>\n",
       "    <tr>\n",
       "      <td>61</td>\n",
       "      <td>Fernando Abad</td>\n",
       "      <td>472551.0</td>\n",
       "      <td>abadfe01</td>\n",
       "      <td>2016</td>\n",
       "      <td>BOS</td>\n",
       "      <td>2</td>\n",
       "      <td>AL</td>\n",
       "      <td>Y</td>\n",
       "      <td>2</td>\n",
       "      <td>0.0</td>\n",
       "      <td>1250000.0</td>\n",
       "      <td>0.0</td>\n",
       "      <td>0.0</td>\n",
       "      <td>0.0</td>\n",
       "      <td>0.00</td>\n",
       "      <td>0.00</td>\n",
       "      <td>0.00</td>\n",
       "    </tr>\n",
       "    <tr>\n",
       "      <td>235</td>\n",
       "      <td>Jose Abreu</td>\n",
       "      <td>547989.0</td>\n",
       "      <td>abreujo02</td>\n",
       "      <td>2016</td>\n",
       "      <td>CHW</td>\n",
       "      <td>1</td>\n",
       "      <td>AL</td>\n",
       "      <td>N</td>\n",
       "      <td>159</td>\n",
       "      <td>695.0</td>\n",
       "      <td>13334000.0</td>\n",
       "      <td>1.9</td>\n",
       "      <td>6.9</td>\n",
       "      <td>-14.0</td>\n",
       "      <td>2.36</td>\n",
       "      <td>0.32</td>\n",
       "      <td>2.68</td>\n",
       "    </tr>\n",
       "    <tr>\n",
       "      <td>310</td>\n",
       "      <td>Dustin Ackley</td>\n",
       "      <td>554429.0</td>\n",
       "      <td>ackledu01</td>\n",
       "      <td>2016</td>\n",
       "      <td>NYY</td>\n",
       "      <td>1</td>\n",
       "      <td>AL</td>\n",
       "      <td>N</td>\n",
       "      <td>28</td>\n",
       "      <td>70.0</td>\n",
       "      <td>3200000.0</td>\n",
       "      <td>-5.0</td>\n",
       "      <td>-8.0</td>\n",
       "      <td>1.6</td>\n",
       "      <td>0.24</td>\n",
       "      <td>-0.53</td>\n",
       "      <td>-0.29</td>\n",
       "    </tr>\n",
       "    <tr>\n",
       "      <td>359</td>\n",
       "      <td>Cristhian Adames</td>\n",
       "      <td>542436.0</td>\n",
       "      <td>adamecr01</td>\n",
       "      <td>2016</td>\n",
       "      <td>COL</td>\n",
       "      <td>1</td>\n",
       "      <td>NL</td>\n",
       "      <td>N</td>\n",
       "      <td>121</td>\n",
       "      <td>256.0</td>\n",
       "      <td>509500.0</td>\n",
       "      <td>-10.9</td>\n",
       "      <td>-11.9</td>\n",
       "      <td>4.0</td>\n",
       "      <td>0.80</td>\n",
       "      <td>-1.21</td>\n",
       "      <td>-0.41</td>\n",
       "    </tr>\n",
       "    <tr>\n",
       "      <td>466</td>\n",
       "      <td>Matt Adams</td>\n",
       "      <td>571431.0</td>\n",
       "      <td>adamsma01</td>\n",
       "      <td>2016</td>\n",
       "      <td>STL</td>\n",
       "      <td>1</td>\n",
       "      <td>NL</td>\n",
       "      <td>N</td>\n",
       "      <td>118</td>\n",
       "      <td>327.0</td>\n",
       "      <td>1650000.0</td>\n",
       "      <td>-2.0</td>\n",
       "      <td>-3.0</td>\n",
       "      <td>-2.6</td>\n",
       "      <td>1.02</td>\n",
       "      <td>-0.29</td>\n",
       "      <td>0.73</td>\n",
       "    </tr>\n",
       "  </tbody>\n",
       "</table>\n",
       "</div>"
      ],
      "text/plain": [
       "          name_common    mlb_ID  player_ID  year_ID team_ID  stint_ID lg_ID  \\\n",
       "61      Fernando Abad  472551.0   abadfe01     2016     BOS         2    AL   \n",
       "235        Jose Abreu  547989.0  abreujo02     2016     CHW         1    AL   \n",
       "310     Dustin Ackley  554429.0  ackledu01     2016     NYY         1    AL   \n",
       "359  Cristhian Adames  542436.0  adamecr01     2016     COL         1    NL   \n",
       "466        Matt Adams  571431.0  adamsma01     2016     STL         1    NL   \n",
       "\n",
       "    pitcher    G     PA      salary  runs_above_avg  runs_above_avg_off  \\\n",
       "61        Y    2    0.0   1250000.0             0.0                 0.0   \n",
       "235       N  159  695.0  13334000.0             1.9                 6.9   \n",
       "310       N   28   70.0   3200000.0            -5.0                -8.0   \n",
       "359       N  121  256.0    509500.0           -10.9               -11.9   \n",
       "466       N  118  327.0   1650000.0            -2.0                -3.0   \n",
       "\n",
       "     runs_above_avg_def  WAR_rep   WAA   WAR  \n",
       "61                  0.0     0.00  0.00  0.00  \n",
       "235               -14.0     2.36  0.32  2.68  \n",
       "310                 1.6     0.24 -0.53 -0.29  \n",
       "359                 4.0     0.80 -1.21 -0.41  \n",
       "466                -2.6     1.02 -0.29  0.73  "
      ]
     },
     "execution_count": 18,
     "metadata": {},
     "output_type": "execute_result"
    }
   ],
   "source": [
    "'''\n",
    "Exploratory:\n",
    "Confirm results by reducing size of WAR dataset to have only those in BSC.\n",
    "'''\n",
    "# Reduce down to match individuals we have data on\n",
    "WAR_reduced = WAR_2016.loc[WAR_2016.name_common.isin(BSC.Name)]\n",
    "WAR_reduced.head()"
   ]
  },
  {
   "cell_type": "code",
   "execution_count": 19,
   "metadata": {},
   "outputs": [
    {
     "data": {
      "image/png": "[encoded data removed]",
      "text/plain": [
       "<Figure size 360x432 with 2 Axes>"
      ]
     },
     "metadata": {
      "needs_background": "light"
     },
     "output_type": "display_data"
    }
   ],
   "source": [
    "goodPlayers = WAR_reduced.loc[WAR_reduced.name_common.isin(BSC_filter.Name)]\n",
    "badPlayers = WAR_reduced.loc[~WAR_reduced.name_common.isin(BSC_filter.Name)]\n",
    "\n",
    "fig,ax = plt.subplots(1,2,sharey=True,figsize=(5,6))\n",
    "\n",
    "ax[0].set_title('Good Players\\' WAR')\n",
    "ax[0].set_ylabel('WAR')\n",
    "ax[0].set_xlabel('Player')\n",
    "ax[0].scatter(np.arange(goodPlayers.shape[0]),goodPlayers.WAR,alpha=.75)\n",
    "\n",
    "ax[1].set_title('Bad Players\\' War')\n",
    "ax[1].set_xlabel('Player')\n",
    "ax[1].scatter(np.arange(badPlayers.shape[0]),badPlayers.WAR,color='r',alpha=.2)\n",
    "plt.show()"
   ]
  },
  {
   "cell_type": "code",
   "execution_count": 20,
   "metadata": {},
   "outputs": [],
   "source": [
    "'''\n",
    "Hypothesis testing - Difference of means of good players gp and bad players bp\n",
    "H_0: mu_gp - mu_bp = 0\n",
    "H_1: mu_gp - mu_gp != 0\n",
    "'''\n",
    "# significance level of 95%\n",
    "alpha = 0.05\n",
    "mu_gp = goodPlayers.WAR.mean()\n",
    "mu_bp = badPlayers.WAR.mean()\n",
    "std_gp = goodPlayers.WAR.std()\n",
    "std_bp = badPlayers.WAR.std()\n",
    "\n",
    "num = mu_gp - mu_bp\n",
    "den = (std_gp**2 / goodPlayers.shape[0]) + (std_bp**2 / badPlayers.shape[0])\n",
    "z = num / np.sqrt(den)\n",
    "\n",
    "# two tail test pval = 2*phi(-|z|)\n",
    "p = 2* stats.norm.cdf(-np.abs(z))"
   ]
  },
  {
   "cell_type": "code",
   "execution_count": 21,
   "metadata": {},
   "outputs": [
    {
     "name": "stdout",
     "output_type": "stream",
     "text": [
      "Population Means: 2.705853658536586 0.7732631578947373\n",
      "Population stds: 2.29205472841483 1.6351738595674943\n",
      "P =  1.1408511699663287e-07\n"
     ]
    }
   ],
   "source": [
    "print('Population Means:',mu_gp,mu_bp)\n",
    "print('Population stds:',std_gp,std_bp)\n",
    "print('P = ',p)"
   ]
  },
  {
   "cell_type": "markdown",
   "metadata": {},
   "source": [
    "### Results\n",
    "\n",
    "In using Apriori to find frequent sets of common offensive batting stats, we are able to distinguish above average players from the population. Apriori reveals the most frequently occuring statistical ranges which most players fall in to which can be used as a filter for what the average player may look like. Removing those who posses average, frequent offensive stats, we are left with players who do not meet the norm. Whether this means we have the above average players or below average players is tested and confirmed through a standard Z test of the differences of mean WAR amongst the two populations.  "
   ]
  },
  {
   "cell_type": "code",
   "execution_count": 22,
   "metadata": {
    "scrolled": true
   },
   "outputs": [
    {
     "name": "stdout",
     "output_type": "stream",
     "text": [
      "Good Players: 41\n",
      "Average Players: 570\n"
     ]
    }
   ],
   "source": [
    "print('Good Players:',goodPlayers.shape[0])\n",
    "print('Average Players:',badPlayers.shape[0])"
   ]
  },
  {
   "cell_type": "code",
   "execution_count": 23,
   "metadata": {},
   "outputs": [
    {
     "name": "stdout",
     "output_type": "stream",
     "text": [
      "Largest Frequent Itemset is length = 8\n"
     ]
    }
   ],
   "source": [
    "print('Largest Frequent Itemset is length =',max(itemsets.keys()))"
   ]
  },
  {
   "cell_type": "code",
   "execution_count": 24,
   "metadata": {},
   "outputs": [
    {
     "name": "stdout",
     "output_type": "stream",
     "text": [
      "Mean:\n",
      "Good: 2.705853658536586 Bad: 0.7732631578947373\n",
      "\n",
      "Standard Deviation\n",
      "Good: 2.29205472841483 Bad: 1.6351738595674943\n",
      "P =  1.1408511699663287e-07 = 0.0\n"
     ]
    }
   ],
   "source": [
    "print('Mean:')\n",
    "print('Good:',mu_gp,'Bad:',mu_bp)\n",
    "print('\\nStandard Deviation')\n",
    "print('Good:',std_gp,'Bad:',std_bp)\n",
    "print('P = ',p,'=',np.round(p,6))"
   ]
  },
  {
   "cell_type": "markdown",
   "metadata": {},
   "source": [
    "Based on the mean of both populations, the population of players that have been filtered out as good players are indeed better than those considered average. This is statistically significant with $\\alpha = 0.05$."
   ]
  }
 ],
 "metadata": {
  "kernelspec": {
   "display_name": "Python 3",
   "language": "python",
   "name": "python3"
  },
  "language_info": {
   "codemirror_mode": {
    "name": "ipython",
    "version": 3
   },
   "file_extension": ".py",
   "mimetype": "text/x-python",
   "name": "python",
   "nbconvert_exporter": "python",
   "pygments_lexer": "ipython3",
   "version": "3.7.1"
  }
 },
 "nbformat": 4,
 "nbformat_minor": 2
}

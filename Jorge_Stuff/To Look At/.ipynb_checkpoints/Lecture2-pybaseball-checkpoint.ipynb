{
 "cells": [
  {
   "cell_type": "markdown",
   "metadata": {},
   "source": [
    "# Introduction to pyBaseball\n",
    "For the first part of this class, we'll use the pyBaseball package to access data. pyBaseball is a python package that provides a nice API for the Baseball Savant website and the Lahman database. Lahman is actually a bunch of .csv files that you download onto your local machine.\n",
    "\n",
    "There are lots of examples of pyBaseball queries on their github repo. I encourage you to rummage through the site and look at what's available. \n",
    "\n",
    "If you haven't already done so, you need to install pyBaseball.\n",
    "\n",
    "Open a terminal and type the following commands to pull the latest pybaseball\n",
    "\n",
    "* git clone https://github.com/jldbc/pybaseball\n",
    "* cd pybaseball\n",
    "* python setup.py install --user\n",
    "\n",
    "To test that pybaseball installed correctly, run the following. If you get back data, pybaseball is working."
   ]
  },
  {
   "cell_type": "code",
   "execution_count": 1,
   "metadata": {},
   "outputs": [
    {
     "ename": "ModuleNotFoundError",
     "evalue": "No module named 'pybaseball'",
     "output_type": "error",
     "traceback": [
      "\u001b[0;31m---------------------------------------------------------------------------\u001b[0m",
      "\u001b[0;31mModuleNotFoundError\u001b[0m                       Traceback (most recent call last)",
      "\u001b[0;32m<ipython-input-1-78e836d333f1>\u001b[0m in \u001b[0;36m<module>\u001b[0;34m()\u001b[0m\n\u001b[0;32m----> 1\u001b[0;31m \u001b[0;32mfrom\u001b[0m \u001b[0mpybaseball\u001b[0m \u001b[0;32mimport\u001b[0m \u001b[0mstatcast\u001b[0m\u001b[0;34m\u001b[0m\u001b[0m\n\u001b[0m\u001b[1;32m      2\u001b[0m \u001b[0mdata\u001b[0m \u001b[0;34m=\u001b[0m \u001b[0mstatcast\u001b[0m\u001b[0;34m(\u001b[0m\u001b[0mstart_dt\u001b[0m\u001b[0;34m=\u001b[0m\u001b[0;34m'2017-06-24'\u001b[0m\u001b[0;34m,\u001b[0m \u001b[0mend_dt\u001b[0m\u001b[0;34m=\u001b[0m\u001b[0;34m'2017-06-27'\u001b[0m\u001b[0;34m)\u001b[0m\u001b[0;34m\u001b[0m\u001b[0m\n\u001b[1;32m      3\u001b[0m \u001b[0mdata\u001b[0m\u001b[0;34m.\u001b[0m\u001b[0mhead\u001b[0m\u001b[0;34m(\u001b[0m\u001b[0;36m2\u001b[0m\u001b[0;34m)\u001b[0m\u001b[0;34m\u001b[0m\u001b[0m\n",
      "\u001b[0;31mModuleNotFoundError\u001b[0m: No module named 'pybaseball'"
     ]
    }
   ],
   "source": [
    "from pybaseball import statcast\n",
    "data = statcast(start_dt='2017-06-24', end_dt='2017-06-27')\n",
    "data.head(2)"
   ]
  },
  {
   "cell_type": "markdown",
   "metadata": {},
   "source": [
    "## Lahman Database ##\n",
    "The Lahman database was created by Sean Lahman, and contains pitching, hitting, and fielding statistics for Major League Baseball from 1871 through 2017.  It includes data from the American and National Leagues, as well as other leagues from 1871-1875. \n",
    "\n",
    "The version that we will work with here is a collection of .csv files. The files are all publicly available through several sources, including http://www.seanlahman.com. We're going to access it through the pybaseball Python package. You can find documentation on what's in each .csv on the Lahman website.\n",
    "\n",
    "A quick query of pybaseball Lahman to display some data"
   ]
  },
  {
   "cell_type": "code",
   "execution_count": 17,
   "metadata": {},
   "outputs": [],
   "source": [
    "#Download the Lahman data\n",
    "from pybaseball.lahman import *\n",
    "\n",
    "#download the entire lahman database to your current working directory\n",
    "download_lahman() \n",
    "\n",
    "#Look at the data. Divided by category\n",
    "#.csv files for Batting, Fielding, Managers, Pitching, etc"
   ]
  },
  {
   "cell_type": "markdown",
   "metadata": {},
   "source": [
    "## Dataframe ##\n",
    "A dataframe in Python is a 2d data structure with rows and columns. Think of dataframes as data tables where each row is an observation and each column is a feature of the observation.\n",
    "\n",
    "In the Lahman database, we can access create a dataframe from the Batting.csv file. Once we create the dataframe, we should look at it:"
   ]
  },
  {
   "cell_type": "code",
   "execution_count": 18,
   "metadata": {},
   "outputs": [
    {
     "data": {
      "text/plain": [
       "['playerID',\n",
       " 'yearID',\n",
       " 'stint',\n",
       " 'teamID',\n",
       " 'lgID',\n",
       " 'G',\n",
       " 'AB',\n",
       " 'R',\n",
       " 'H',\n",
       " '2B',\n",
       " '3B',\n",
       " 'HR',\n",
       " 'RBI',\n",
       " 'SB',\n",
       " 'CS',\n",
       " 'BB',\n",
       " 'SO',\n",
       " 'IBB',\n",
       " 'HBP',\n",
       " 'SH',\n",
       " 'SF',\n",
       " 'GIDP']"
      ]
     },
     "execution_count": 18,
     "metadata": {},
     "output_type": "execute_result"
    }
   ],
   "source": [
    "batting = batting()\n",
    "#first, inspect the data\n",
    "#get the first 10 rows\n",
    "batting.head(10)\n",
    "\n",
    "#or, to show the column headers only\n",
    "\n",
    "list(batting)"
   ]
  },
  {
   "cell_type": "markdown",
   "metadata": {},
   "source": [
    "### Things to do with dataframes ###\n",
    "It's rare that we want to use all of the data that we have in our dataframe. More likely, you'll want to pull out certain rows and columns that you can use to answer interesting questions.\n",
    "\n",
    "#### Filter rows ####\n",
    "Access the rows in the dataframe using the column name and set criteria for the values in those columns. For example, to pull out the 2016 data out of the batting dataframe:"
   ]
  },
  {
   "cell_type": "code",
   "execution_count": 19,
   "metadata": {},
   "outputs": [
    {
     "data": {
      "text/html": [
       "<div>\n",
       "<style scoped>\n",
       "    .dataframe tbody tr th:only-of-type {\n",
       "        vertical-align: middle;\n",
       "    }\n",
       "\n",
       "    .dataframe tbody tr th {\n",
       "        vertical-align: top;\n",
       "    }\n",
       "\n",
       "    .dataframe thead th {\n",
       "        text-align: right;\n",
       "    }\n",
       "</style>\n",
       "<table border=\"1\" class=\"dataframe\">\n",
       "  <thead>\n",
       "    <tr style=\"text-align: right;\">\n",
       "      <th></th>\n",
       "      <th>playerID</th>\n",
       "      <th>yearID</th>\n",
       "      <th>stint</th>\n",
       "      <th>teamID</th>\n",
       "      <th>lgID</th>\n",
       "      <th>G</th>\n",
       "      <th>AB</th>\n",
       "      <th>R</th>\n",
       "      <th>H</th>\n",
       "      <th>2B</th>\n",
       "      <th>...</th>\n",
       "      <th>RBI</th>\n",
       "      <th>SB</th>\n",
       "      <th>CS</th>\n",
       "      <th>BB</th>\n",
       "      <th>SO</th>\n",
       "      <th>IBB</th>\n",
       "      <th>HBP</th>\n",
       "      <th>SH</th>\n",
       "      <th>SF</th>\n",
       "      <th>GIDP</th>\n",
       "    </tr>\n",
       "  </thead>\n",
       "  <tbody>\n",
       "    <tr>\n",
       "      <th>101333</th>\n",
       "      <td>abadfe01</td>\n",
       "      <td>2016</td>\n",
       "      <td>1</td>\n",
       "      <td>MIN</td>\n",
       "      <td>AL</td>\n",
       "      <td>39</td>\n",
       "      <td>1</td>\n",
       "      <td>0</td>\n",
       "      <td>0</td>\n",
       "      <td>0</td>\n",
       "      <td>...</td>\n",
       "      <td>0.0</td>\n",
       "      <td>0.0</td>\n",
       "      <td>0.0</td>\n",
       "      <td>0</td>\n",
       "      <td>1.0</td>\n",
       "      <td>0.0</td>\n",
       "      <td>0.0</td>\n",
       "      <td>0.0</td>\n",
       "      <td>0.0</td>\n",
       "      <td>0.0</td>\n",
       "    </tr>\n",
       "    <tr>\n",
       "      <th>101334</th>\n",
       "      <td>abadfe01</td>\n",
       "      <td>2016</td>\n",
       "      <td>2</td>\n",
       "      <td>BOS</td>\n",
       "      <td>AL</td>\n",
       "      <td>18</td>\n",
       "      <td>0</td>\n",
       "      <td>0</td>\n",
       "      <td>0</td>\n",
       "      <td>0</td>\n",
       "      <td>...</td>\n",
       "      <td>0.0</td>\n",
       "      <td>0.0</td>\n",
       "      <td>0.0</td>\n",
       "      <td>0</td>\n",
       "      <td>0.0</td>\n",
       "      <td>0.0</td>\n",
       "      <td>0.0</td>\n",
       "      <td>0.0</td>\n",
       "      <td>0.0</td>\n",
       "      <td>0.0</td>\n",
       "    </tr>\n",
       "    <tr>\n",
       "      <th>101335</th>\n",
       "      <td>abreujo02</td>\n",
       "      <td>2016</td>\n",
       "      <td>1</td>\n",
       "      <td>CHA</td>\n",
       "      <td>AL</td>\n",
       "      <td>159</td>\n",
       "      <td>624</td>\n",
       "      <td>67</td>\n",
       "      <td>183</td>\n",
       "      <td>32</td>\n",
       "      <td>...</td>\n",
       "      <td>100.0</td>\n",
       "      <td>0.0</td>\n",
       "      <td>2.0</td>\n",
       "      <td>47</td>\n",
       "      <td>125.0</td>\n",
       "      <td>7.0</td>\n",
       "      <td>15.0</td>\n",
       "      <td>0.0</td>\n",
       "      <td>9.0</td>\n",
       "      <td>21.0</td>\n",
       "    </tr>\n",
       "    <tr>\n",
       "      <th>101336</th>\n",
       "      <td>achteaj01</td>\n",
       "      <td>2016</td>\n",
       "      <td>1</td>\n",
       "      <td>LAA</td>\n",
       "      <td>AL</td>\n",
       "      <td>27</td>\n",
       "      <td>0</td>\n",
       "      <td>0</td>\n",
       "      <td>0</td>\n",
       "      <td>0</td>\n",
       "      <td>...</td>\n",
       "      <td>0.0</td>\n",
       "      <td>0.0</td>\n",
       "      <td>0.0</td>\n",
       "      <td>0</td>\n",
       "      <td>0.0</td>\n",
       "      <td>0.0</td>\n",
       "      <td>0.0</td>\n",
       "      <td>0.0</td>\n",
       "      <td>0.0</td>\n",
       "      <td>0.0</td>\n",
       "    </tr>\n",
       "    <tr>\n",
       "      <th>101337</th>\n",
       "      <td>ackledu01</td>\n",
       "      <td>2016</td>\n",
       "      <td>1</td>\n",
       "      <td>NYA</td>\n",
       "      <td>AL</td>\n",
       "      <td>28</td>\n",
       "      <td>61</td>\n",
       "      <td>6</td>\n",
       "      <td>9</td>\n",
       "      <td>0</td>\n",
       "      <td>...</td>\n",
       "      <td>4.0</td>\n",
       "      <td>0.0</td>\n",
       "      <td>0.0</td>\n",
       "      <td>8</td>\n",
       "      <td>9.0</td>\n",
       "      <td>0.0</td>\n",
       "      <td>0.0</td>\n",
       "      <td>0.0</td>\n",
       "      <td>1.0</td>\n",
       "      <td>0.0</td>\n",
       "    </tr>\n",
       "  </tbody>\n",
       "</table>\n",
       "<p>5 rows × 22 columns</p>\n",
       "</div>"
      ],
      "text/plain": [
       "         playerID  yearID  stint teamID lgID    G   AB   R    H  2B  ...   \\\n",
       "101333   abadfe01    2016      1    MIN   AL   39    1   0    0   0  ...    \n",
       "101334   abadfe01    2016      2    BOS   AL   18    0   0    0   0  ...    \n",
       "101335  abreujo02    2016      1    CHA   AL  159  624  67  183  32  ...    \n",
       "101336  achteaj01    2016      1    LAA   AL   27    0   0    0   0  ...    \n",
       "101337  ackledu01    2016      1    NYA   AL   28   61   6    9   0  ...    \n",
       "\n",
       "          RBI   SB   CS  BB     SO  IBB   HBP   SH   SF  GIDP  \n",
       "101333    0.0  0.0  0.0   0    1.0  0.0   0.0  0.0  0.0   0.0  \n",
       "101334    0.0  0.0  0.0   0    0.0  0.0   0.0  0.0  0.0   0.0  \n",
       "101335  100.0  0.0  2.0  47  125.0  7.0  15.0  0.0  9.0  21.0  \n",
       "101336    0.0  0.0  0.0   0    0.0  0.0   0.0  0.0  0.0   0.0  \n",
       "101337    4.0  0.0  0.0   8    9.0  0.0   0.0  0.0  1.0   0.0  \n",
       "\n",
       "[5 rows x 22 columns]"
      ]
     },
     "execution_count": 19,
     "metadata": {},
     "output_type": "execute_result"
    }
   ],
   "source": [
    "batting2016 = batting.loc[(batting[\"yearID\"]==2016)]#one year only\n",
    "batting2016.head(5)"
   ]
  },
  {
   "cell_type": "markdown",
   "metadata": {},
   "source": [
    "#### Filter columns ####\n",
    "If you only want to see certain columns in the dataframe, you can pull just those columns:"
   ]
  },
  {
   "cell_type": "code",
   "execution_count": 20,
   "metadata": {},
   "outputs": [
    {
     "data": {
      "text/html": [
       "<div>\n",
       "<style scoped>\n",
       "    .dataframe tbody tr th:only-of-type {\n",
       "        vertical-align: middle;\n",
       "    }\n",
       "\n",
       "    .dataframe tbody tr th {\n",
       "        vertical-align: top;\n",
       "    }\n",
       "\n",
       "    .dataframe thead th {\n",
       "        text-align: right;\n",
       "    }\n",
       "</style>\n",
       "<table border=\"1\" class=\"dataframe\">\n",
       "  <thead>\n",
       "    <tr style=\"text-align: right;\">\n",
       "      <th></th>\n",
       "      <th>teamID</th>\n",
       "      <th>lgID</th>\n",
       "    </tr>\n",
       "  </thead>\n",
       "  <tbody>\n",
       "    <tr>\n",
       "      <th>101333</th>\n",
       "      <td>MIN</td>\n",
       "      <td>AL</td>\n",
       "    </tr>\n",
       "    <tr>\n",
       "      <th>101334</th>\n",
       "      <td>BOS</td>\n",
       "      <td>AL</td>\n",
       "    </tr>\n",
       "    <tr>\n",
       "      <th>101335</th>\n",
       "      <td>CHA</td>\n",
       "      <td>AL</td>\n",
       "    </tr>\n",
       "    <tr>\n",
       "      <th>101336</th>\n",
       "      <td>LAA</td>\n",
       "      <td>AL</td>\n",
       "    </tr>\n",
       "    <tr>\n",
       "      <th>101337</th>\n",
       "      <td>NYA</td>\n",
       "      <td>AL</td>\n",
       "    </tr>\n",
       "    <tr>\n",
       "      <th>101338</th>\n",
       "      <td>COL</td>\n",
       "      <td>NL</td>\n",
       "    </tr>\n",
       "    <tr>\n",
       "      <th>101339</th>\n",
       "      <td>CLE</td>\n",
       "      <td>AL</td>\n",
       "    </tr>\n",
       "    <tr>\n",
       "      <th>101340</th>\n",
       "      <td>SLN</td>\n",
       "      <td>NL</td>\n",
       "    </tr>\n",
       "    <tr>\n",
       "      <th>101341</th>\n",
       "      <td>CIN</td>\n",
       "      <td>NL</td>\n",
       "    </tr>\n",
       "    <tr>\n",
       "      <th>101342</th>\n",
       "      <td>SFN</td>\n",
       "      <td>NL</td>\n",
       "    </tr>\n",
       "  </tbody>\n",
       "</table>\n",
       "</div>"
      ],
      "text/plain": [
       "       teamID lgID\n",
       "101333    MIN   AL\n",
       "101334    BOS   AL\n",
       "101335    CHA   AL\n",
       "101336    LAA   AL\n",
       "101337    NYA   AL\n",
       "101338    COL   NL\n",
       "101339    CLE   AL\n",
       "101340    SLN   NL\n",
       "101341    CIN   NL\n",
       "101342    SFN   NL"
      ]
     },
     "execution_count": 20,
     "metadata": {},
     "output_type": "execute_result"
    }
   ],
   "source": [
    "batting.loc[:,[\"teamID\", \"lgID\"]].head(10)\n",
    "#or filter rows and select columns\n",
    "batting2016 = batting.loc[(batting[\"yearID\"]==2016),[\"teamID\", \"lgID\"]]\n",
    "batting2016.head(10)"
   ]
  },
  {
   "cell_type": "markdown",
   "metadata": {},
   "source": [
    "### Another dataframe example ###\n",
    "If you look at the pyBaseball Lahman.py code, you'll see the functions that return the data stored in each csv. For example, you can get information about different ballparks by looking at the Parks data in Parks.csv. "
   ]
  },
  {
   "cell_type": "code",
   "execution_count": 21,
   "metadata": {},
   "outputs": [
    {
     "name": "stdout",
     "output_type": "stream",
     "text": [
      "  park.key       park.name park.alias    city state country\n",
      "0    ALB01  Riverside Park        NaN  Albany    NY      US\n"
     ]
    }
   ],
   "source": [
    "parks = parks()\n",
    "parks.head(10)\n",
    "p = parks.loc[(parks[\"park.name\"]=='Riverside Park')]\n",
    "print(p)"
   ]
  },
  {
   "cell_type": "markdown",
   "metadata": {},
   "source": [
    "#### Dataframes in memory ####\n",
    "In all of these examples, we created new variables that point to the original dataframe in memory. If you change a dataframe, it changes it everywhere that it is referenced. If you want to make changes, you should copy the dataframe first.\n",
    "\n",
    "#### For more information about .loc, .iloc, and indexing ####\n",
    "Here is a good article about accessing rows in a dataframe: <a href=\"https://www.shanelynn.ie/select-pandas-dataframe-rows-and-columns-using-iloc-loc-and-ix\" target=\"_blank\">Accessing data in a dataframe</a>\n",
    "\n",
    "## Questions ##\n",
    "1. Generate a dataframe of all players who played second base in 2010.\n",
    "2. Generate a dataframe of all pitchers with an ERA < 4.0 since 2010."
   ]
  },
  {
   "cell_type": "code",
   "execution_count": null,
   "metadata": {},
   "outputs": [],
   "source": []
  }
 ],
 "metadata": {
  "kernelspec": {
   "display_name": "Python 3",
   "language": "python",
   "name": "python3"
  },
  "language_info": {
   "codemirror_mode": {
    "name": "ipython",
    "version": 3
   },
   "file_extension": ".py",
   "mimetype": "text/x-python",
   "name": "python",
   "nbconvert_exporter": "python",
   "pygments_lexer": "ipython3",
   "version": "3.6.5"
  }
 },
 "nbformat": 4,
 "nbformat_minor": 2
}
